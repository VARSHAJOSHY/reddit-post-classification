{
 "cells": [
  {
   "cell_type": "markdown",
   "metadata": {
    "id": "DyFYH3v7-ix0"
   },
   "source": [
    "## **Downloading and loading Data**\n",
    "\n",
    "**This code loads the prepared split of the Reddit data into training, validation and testing set.**"
   ]
  },
  {
   "cell_type": "code",
   "execution_count": 1,
   "metadata": {
    "colab": {
     "base_uri": "https://localhost:8080/"
    },
    "id": "tG_zJqYH9sTd",
    "outputId": "0a7a520c-b652-40bb-c92f-ba903cbdb6d6"
   },
   "outputs": [
    {
     "name": "stdout",
     "output_type": "stream",
     "text": [
      "--2022-03-22 10:40:34--  https://gla-my.sharepoint.com/:u:/g/personal/jake_lever_glasgow_ac_uk/EapVNOIV84tPnQuuFBNgG9UBYIWipQ9JL4QTfSgRtIacBw?download=1\n",
      "Resolving gla-my.sharepoint.com (gla-my.sharepoint.com)... 13.107.136.9, 13.107.138.9\n",
      "Connecting to gla-my.sharepoint.com (gla-my.sharepoint.com)|13.107.136.9|:443... connected.\n",
      "HTTP request sent, awaiting response... 302 Found\n",
      "Location: /personal/jake_lever_glasgow_ac_uk/Documents/Teaching/reddit_data_split.zip [following]\n",
      "--2022-03-22 10:40:35--  https://gla-my.sharepoint.com/personal/jake_lever_glasgow_ac_uk/Documents/Teaching/reddit_data_split.zip\n",
      "Reusing existing connection to gla-my.sharepoint.com:443.\n",
      "HTTP request sent, awaiting response... 200 OK\n",
      "Length: 468327 (457K) [application/x-zip-compressed]\n",
      "Saving to: ‘reddit_data_split.zip’\n",
      "\n",
      "reddit_data_split.z 100%[===================>] 457.35K   953KB/s    in 0.5s    \n",
      "\n",
      "2022-03-22 10:40:36 (953 KB/s) - ‘reddit_data_split.zip’ saved [468327/468327]\n",
      "\n",
      "Archive:  reddit_data_split.zip\n",
      "  inflating: reddit_test.json        \n",
      "  inflating: reddit_train.json       \n",
      "  inflating: reddit_val.json         \n"
     ]
    }
   ],
   "source": [
    "!wget -O reddit_data_split.zip https://gla-my.sharepoint.com/:u:/g/personal/jake_lever_glasgow_ac_uk/EapVNOIV84tPnQuuFBNgG9UBYIWipQ9JL4QTfSgRtIacBw?download=1\n",
    "!unzip -o reddit_data_split.zip"
   ]
  },
  {
   "cell_type": "code",
   "execution_count": 2,
   "metadata": {
    "colab": {
     "base_uri": "https://localhost:8080/"
    },
    "id": "xCezGTgdRYkj",
    "outputId": "1d053b11-11dc-4d11-c023-5d1bad37e014"
   },
   "outputs": [
    {
     "name": "stdout",
     "output_type": "stream",
     "text": [
      "Number of posts in training data: 1200\n",
      "Number of posts in validation data: 400\n",
      "Number of posts in test data: 400\n"
     ]
    }
   ],
   "source": [
    "import json\n",
    "\n",
    "with open('reddit_train.json') as f:\n",
    "    train_data = json.load(f)\n",
    "with open('reddit_val.json') as f:\n",
    "    validation_data = json.load(f)\n",
    "with open('reddit_test.json') as f:\n",
    "    test_data = json.load(f)\n",
    "\n",
    "print(\"Number of posts in training data:\", len(train_data))\n",
    "print(\"Number of posts in validation data:\", len(validation_data))\n",
    "print(\"Number of posts in test data:\", len(test_data))"
   ]
  },
  {
   "cell_type": "markdown",
   "metadata": {
    "id": "DzmCpxLYbdOI"
   },
   "source": [
    "**This code block download libraries/functions from various modules that are required to execute the collab/notebook**"
   ]
  },
  {
   "cell_type": "code",
   "execution_count": 3,
   "metadata": {
    "colab": {
     "base_uri": "https://localhost:8080/"
    },
    "id": "d1Qw1AzsbZjV",
    "outputId": "e523931a-6127-4ece-9af0-c9aa00e5fd62"
   },
   "outputs": [
    {
     "name": "stdout",
     "output_type": "stream",
     "text": [
      "[nltk_data] Downloading package stopwords to /root/nltk_data...\n",
      "[nltk_data]   Unzipping corpora/stopwords.zip.\n"
     ]
    }
   ],
   "source": [
    "import spacy\n",
    "import pandas as pd\n",
    "import collections\n",
    "\n",
    "# Load the medium english model. \n",
    "# We will use this model to get embedding features for tokens later.\n",
    "#!python -m spacy download en_core_web_md\n",
    "\n",
    "nlp = spacy.load('en_core_web_sm', disable=['ner'])\n",
    "nlp.remove_pipe('tagger')\n",
    "nlp.remove_pipe('parser')\n",
    "\n",
    "# Download a stopword list\n",
    "import nltk\n",
    "nltk.download('stopwords')\n",
    "from nltk.corpus import stopwords\n",
    "\n",
    "from sklearn.feature_extraction.text import CountVectorizer\n",
    "from sklearn.feature_extraction.text import TfidfVectorizer\n",
    "from sklearn.feature_extraction.text import HashingVectorizer\n",
    "\n",
    "from sklearn.dummy import DummyClassifier\n",
    "from sklearn.linear_model import LogisticRegression\n",
    "from sklearn import svm\n",
    "from sklearn.linear_model import SGDClassifier\n",
    "\n",
    "from sklearn.base import BaseEstimator, TransformerMixin\n",
    "\n",
    "from sklearn.metrics import classification_report\n",
    "from sklearn.metrics import confusion_matrix\n",
    "from sklearn.metrics import precision_score\n",
    "from sklearn.metrics import recall_score\n",
    "from sklearn.metrics import accuracy_score\n",
    "from sklearn.metrics import fbeta_score\n",
    "\n",
    "from sklearn.pipeline import Pipeline\n",
    "from sklearn.model_selection import GridSearchCV\n",
    "from sklearn.metrics import confusion_matrix, ConfusionMatrixDisplay\n",
    "from pprint import pprint\n",
    "from time import time\n",
    "import logging\n",
    "import numpy as np\n",
    "\n",
    "import warnings\n",
    "warnings.filterwarnings('ignore')\n",
    "\n",
    "from matplotlib import pyplot as plt\n",
    "#Python, pandas\n",
    "#Function on CSS created for this\n",
    "from IPython.display import display_html\n",
    "\n",
    "#custom tokenization\n",
    "import re\n",
    "from textblob import TextBlob \n",
    "from textblob import Word\n",
    "from bs4 import BeautifulSoup\n",
    "\n",
    "#gensim word2vec libraries\n",
    "import gensim.downloader as gensim_api\n",
    "import gensim\n",
    "from gensim.models import Word2Vec, KeyedVectors\n",
    "\n",
    "from sklearn.pipeline import Pipeline\n",
    "from gensim.sklearn_api import W2VTransformer"
   ]
  },
  {
   "cell_type": "markdown",
   "metadata": {
    "id": "7txBmrCG_tKr"
   },
   "source": [
    "## **Q1: Comparing Classifiers**"
   ]
  },
  {
   "cell_type": "markdown",
   "metadata": {
    "id": "iK9u5izk_wSh"
   },
   "source": [
    "#### **Q1a: Exploring Dataset**\n",
    "Calculate the counts for the various labels and comment on the distribution of labels in the training/validation/test sets"
   ]
  },
  {
   "cell_type": "markdown",
   "metadata": {
    "id": "TLL0ZNidd1dX"
   },
   "source": [
    "\n",
    "\n",
    "*   **Training Dataset**\n",
    "is used to train the model or fit the parameters to the model.\n",
    "\n"
   ]
  },
  {
   "cell_type": "code",
   "execution_count": 4,
   "metadata": {
    "colab": {
     "base_uri": "https://localhost:8080/",
     "height": 441
    },
    "id": "kQRKOn5B2Drm",
    "outputId": "07dac5e4-f441-487b-aa52-f8e663afeee4"
   },
   "outputs": [
    {
     "name": "stdout",
     "output_type": "stream",
     "text": [
      "We have 1200 Reddit posts in training dataset\n"
     ]
    },
    {
     "data": {
      "text/html": [
       "\n",
       "  <div id=\"df-6f425099-70ba-4252-8c81-ca9fdec173f5\">\n",
       "    <div class=\"colab-df-container\">\n",
       "      <div>\n",
       "<style scoped>\n",
       "    .dataframe tbody tr th:only-of-type {\n",
       "        vertical-align: middle;\n",
       "    }\n",
       "\n",
       "    .dataframe tbody tr th {\n",
       "        vertical-align: top;\n",
       "    }\n",
       "\n",
       "    .dataframe thead th {\n",
       "        text-align: right;\n",
       "    }\n",
       "</style>\n",
       "<table border=\"1\" class=\"dataframe\">\n",
       "  <thead>\n",
       "    <tr style=\"text-align: right;\">\n",
       "      <th></th>\n",
       "      <th>subreddit</th>\n",
       "      <th>title</th>\n",
       "      <th>score</th>\n",
       "      <th>id</th>\n",
       "      <th>author</th>\n",
       "      <th>body</th>\n",
       "    </tr>\n",
       "  </thead>\n",
       "  <tbody>\n",
       "    <tr>\n",
       "      <th>0</th>\n",
       "      <td>PS4</td>\n",
       "      <td>Can I get banned for having a game that I didn...</td>\n",
       "      <td>0</td>\n",
       "      <td>queqfu</td>\n",
       "      <td>XC-XERZ</td>\n",
       "      <td>Long story short, I saw ESO in my library, dow...</td>\n",
       "    </tr>\n",
       "    <tr>\n",
       "      <th>1</th>\n",
       "      <td>pcgaming</td>\n",
       "      <td>How to get a Kinect sensor to work with a PC?</td>\n",
       "      <td>0</td>\n",
       "      <td>1eujoa</td>\n",
       "      <td>ZachTheKing</td>\n",
       "      <td>I have seen a video online where someone took ...</td>\n",
       "    </tr>\n",
       "    <tr>\n",
       "      <th>2</th>\n",
       "      <td>NintendoSwitch</td>\n",
       "      <td>Switch Only Charges with GoPro Cable</td>\n",
       "      <td>5</td>\n",
       "      <td>m00bx7</td>\n",
       "      <td>BluePenguin2002</td>\n",
       "      <td>Hi, hope this is the right place/way to post t...</td>\n",
       "    </tr>\n",
       "    <tr>\n",
       "      <th>3</th>\n",
       "      <td>antiMLM</td>\n",
       "      <td>L’Occitane going down MLM route?</td>\n",
       "      <td>15</td>\n",
       "      <td>q13pvx</td>\n",
       "      <td>100fluffyclouds</td>\n",
       "      <td>After buying a majority share in Limelight/Alc...</td>\n",
       "    </tr>\n",
       "    <tr>\n",
       "      <th>4</th>\n",
       "      <td>HydroHomies</td>\n",
       "      <td>Guys i need your help</td>\n",
       "      <td>2</td>\n",
       "      <td>rxiv2g</td>\n",
       "      <td>Epicskeleton53</td>\n",
       "      <td>Is it ok for me to drink coffee in the morning...</td>\n",
       "    </tr>\n",
       "    <tr>\n",
       "      <th>...</th>\n",
       "      <td>...</td>\n",
       "      <td>...</td>\n",
       "      <td>...</td>\n",
       "      <td>...</td>\n",
       "      <td>...</td>\n",
       "      <td>...</td>\n",
       "    </tr>\n",
       "    <tr>\n",
       "      <th>1195</th>\n",
       "      <td>xbox</td>\n",
       "      <td>I’m debating if I should get a PC or Xbox Seri...</td>\n",
       "      <td>2</td>\n",
       "      <td>m6a172</td>\n",
       "      <td>Matt3339</td>\n",
       "      <td>I do have some question as well.\\n1. Can the S...</td>\n",
       "    </tr>\n",
       "    <tr>\n",
       "      <th>1196</th>\n",
       "      <td>Coffee</td>\n",
       "      <td>Where can I buy several exotic or unique coffees?</td>\n",
       "      <td>10</td>\n",
       "      <td>3yvspn</td>\n",
       "      <td>victorlinguist</td>\n",
       "      <td>I am looking for an online place that will off...</td>\n",
       "    </tr>\n",
       "    <tr>\n",
       "      <th>1197</th>\n",
       "      <td>tea</td>\n",
       "      <td>What are some of y'all's favorite non-caffeina...</td>\n",
       "      <td>5</td>\n",
       "      <td>bdlfo5</td>\n",
       "      <td>Bobthebanana73</td>\n",
       "      <td>Due to medical reasons, I am currently not all...</td>\n",
       "    </tr>\n",
       "    <tr>\n",
       "      <th>1198</th>\n",
       "      <td>Coffee</td>\n",
       "      <td>[Q] What pour over method should I try?</td>\n",
       "      <td>7</td>\n",
       "      <td>htwdo3</td>\n",
       "      <td>NorwegianWarlord</td>\n",
       "      <td>Hey all!\\nThe recent years I've learned to lov...</td>\n",
       "    </tr>\n",
       "    <tr>\n",
       "      <th>1199</th>\n",
       "      <td>pcgaming</td>\n",
       "      <td>Thoughts on the Asus G Series G5S3W-XN1?</td>\n",
       "      <td>6</td>\n",
       "      <td>iy1zg</td>\n",
       "      <td>aznegglover</td>\n",
       "      <td>http://www.newegg.com/Product/Product.aspx?Ite...</td>\n",
       "    </tr>\n",
       "  </tbody>\n",
       "</table>\n",
       "<p>1200 rows × 6 columns</p>\n",
       "</div>\n",
       "      <button class=\"colab-df-convert\" onclick=\"convertToInteractive('df-6f425099-70ba-4252-8c81-ca9fdec173f5')\"\n",
       "              title=\"Convert this dataframe to an interactive table.\"\n",
       "              style=\"display:none;\">\n",
       "        \n",
       "  <svg xmlns=\"http://www.w3.org/2000/svg\" height=\"24px\"viewBox=\"0 0 24 24\"\n",
       "       width=\"24px\">\n",
       "    <path d=\"M0 0h24v24H0V0z\" fill=\"none\"/>\n",
       "    <path d=\"M18.56 5.44l.94 2.06.94-2.06 2.06-.94-2.06-.94-.94-2.06-.94 2.06-2.06.94zm-11 1L8.5 8.5l.94-2.06 2.06-.94-2.06-.94L8.5 2.5l-.94 2.06-2.06.94zm10 10l.94 2.06.94-2.06 2.06-.94-2.06-.94-.94-2.06-.94 2.06-2.06.94z\"/><path d=\"M17.41 7.96l-1.37-1.37c-.4-.4-.92-.59-1.43-.59-.52 0-1.04.2-1.43.59L10.3 9.45l-7.72 7.72c-.78.78-.78 2.05 0 2.83L4 21.41c.39.39.9.59 1.41.59.51 0 1.02-.2 1.41-.59l7.78-7.78 2.81-2.81c.8-.78.8-2.07 0-2.86zM5.41 20L4 18.59l7.72-7.72 1.47 1.35L5.41 20z\"/>\n",
       "  </svg>\n",
       "      </button>\n",
       "      \n",
       "  <style>\n",
       "    .colab-df-container {\n",
       "      display:flex;\n",
       "      flex-wrap:wrap;\n",
       "      gap: 12px;\n",
       "    }\n",
       "\n",
       "    .colab-df-convert {\n",
       "      background-color: #E8F0FE;\n",
       "      border: none;\n",
       "      border-radius: 50%;\n",
       "      cursor: pointer;\n",
       "      display: none;\n",
       "      fill: #1967D2;\n",
       "      height: 32px;\n",
       "      padding: 0 0 0 0;\n",
       "      width: 32px;\n",
       "    }\n",
       "\n",
       "    .colab-df-convert:hover {\n",
       "      background-color: #E2EBFA;\n",
       "      box-shadow: 0px 1px 2px rgba(60, 64, 67, 0.3), 0px 1px 3px 1px rgba(60, 64, 67, 0.15);\n",
       "      fill: #174EA6;\n",
       "    }\n",
       "\n",
       "    [theme=dark] .colab-df-convert {\n",
       "      background-color: #3B4455;\n",
       "      fill: #D2E3FC;\n",
       "    }\n",
       "\n",
       "    [theme=dark] .colab-df-convert:hover {\n",
       "      background-color: #434B5C;\n",
       "      box-shadow: 0px 1px 3px 1px rgba(0, 0, 0, 0.15);\n",
       "      filter: drop-shadow(0px 1px 2px rgba(0, 0, 0, 0.3));\n",
       "      fill: #FFFFFF;\n",
       "    }\n",
       "  </style>\n",
       "\n",
       "      <script>\n",
       "        const buttonEl =\n",
       "          document.querySelector('#df-6f425099-70ba-4252-8c81-ca9fdec173f5 button.colab-df-convert');\n",
       "        buttonEl.style.display =\n",
       "          google.colab.kernel.accessAllowed ? 'block' : 'none';\n",
       "\n",
       "        async function convertToInteractive(key) {\n",
       "          const element = document.querySelector('#df-6f425099-70ba-4252-8c81-ca9fdec173f5');\n",
       "          const dataTable =\n",
       "            await google.colab.kernel.invokeFunction('convertToInteractive',\n",
       "                                                     [key], {});\n",
       "          if (!dataTable) return;\n",
       "\n",
       "          const docLinkHtml = 'Like what you see? Visit the ' +\n",
       "            '<a target=\"_blank\" href=https://colab.research.google.com/notebooks/data_table.ipynb>data table notebook</a>'\n",
       "            + ' to learn more about interactive tables.';\n",
       "          element.innerHTML = '';\n",
       "          dataTable['output_type'] = 'display_data';\n",
       "          await google.colab.output.renderOutput(dataTable, element);\n",
       "          const docLink = document.createElement('div');\n",
       "          docLink.innerHTML = docLinkHtml;\n",
       "          element.appendChild(docLink);\n",
       "        }\n",
       "      </script>\n",
       "    </div>\n",
       "  </div>\n",
       "  "
      ],
      "text/plain": [
       "           subreddit                                              title  \\\n",
       "0                PS4  Can I get banned for having a game that I didn...   \n",
       "1           pcgaming      How to get a Kinect sensor to work with a PC?   \n",
       "2     NintendoSwitch               Switch Only Charges with GoPro Cable   \n",
       "3            antiMLM                   L’Occitane going down MLM route?   \n",
       "4        HydroHomies                              Guys i need your help   \n",
       "...              ...                                                ...   \n",
       "1195            xbox  I’m debating if I should get a PC or Xbox Seri...   \n",
       "1196          Coffee  Where can I buy several exotic or unique coffees?   \n",
       "1197             tea  What are some of y'all's favorite non-caffeina...   \n",
       "1198          Coffee            [Q] What pour over method should I try?   \n",
       "1199        pcgaming           Thoughts on the Asus G Series G5S3W-XN1?   \n",
       "\n",
       "      score      id            author  \\\n",
       "0         0  queqfu           XC-XERZ   \n",
       "1         0  1eujoa       ZachTheKing   \n",
       "2         5  m00bx7   BluePenguin2002   \n",
       "3        15  q13pvx   100fluffyclouds   \n",
       "4         2  rxiv2g    Epicskeleton53   \n",
       "...     ...     ...               ...   \n",
       "1195      2  m6a172          Matt3339   \n",
       "1196     10  3yvspn    victorlinguist   \n",
       "1197      5  bdlfo5    Bobthebanana73   \n",
       "1198      7  htwdo3  NorwegianWarlord   \n",
       "1199      6   iy1zg       aznegglover   \n",
       "\n",
       "                                                   body  \n",
       "0     Long story short, I saw ESO in my library, dow...  \n",
       "1     I have seen a video online where someone took ...  \n",
       "2     Hi, hope this is the right place/way to post t...  \n",
       "3     After buying a majority share in Limelight/Alc...  \n",
       "4     Is it ok for me to drink coffee in the morning...  \n",
       "...                                                 ...  \n",
       "1195  I do have some question as well.\\n1. Can the S...  \n",
       "1196  I am looking for an online place that will off...  \n",
       "1197  Due to medical reasons, I am currently not all...  \n",
       "1198  Hey all!\\nThe recent years I've learned to lov...  \n",
       "1199  http://www.newegg.com/Product/Product.aspx?Ite...  \n",
       "\n",
       "[1200 rows x 6 columns]"
      ]
     },
     "execution_count": 4,
     "metadata": {},
     "output_type": "execute_result"
    }
   ],
   "source": [
    "collabels = ['subreddit', 'title', 'score', 'id', 'author','body']\n",
    "train_data_list = list()\n",
    "for pos, item in enumerate(train_data):\n",
    "    train_data_list.append( (train_data[pos]['subreddit'], train_data[pos]['title'], train_data[pos]['score'], train_data[pos]['id'], train_data[pos]['author'], train_data[pos]['body']))\n",
    "print(\"We have %d Reddit posts in training dataset\"  % len(train_data_list))\n",
    "train_data_df = pd.DataFrame(train_data_list, columns=collabels)\n",
    "train_data_df"
   ]
  },
  {
   "cell_type": "markdown",
   "metadata": {
    "id": "vEln2KBJkU2a"
   },
   "source": [
    "\n",
    "*   **Validation Dataset**\n",
    "is used to provide an unbiased evaluation of a model fitted on the training dataset as well as tuning hyperparameters"
   ]
  },
  {
   "cell_type": "code",
   "execution_count": 5,
   "metadata": {
    "colab": {
     "base_uri": "https://localhost:8080/",
     "height": 441
    },
    "id": "6boLcMbfkEXC",
    "outputId": "e451d0f1-d09c-4d44-8207-dd8afb086b74"
   },
   "outputs": [
    {
     "name": "stdout",
     "output_type": "stream",
     "text": [
      "We have 400 Reddit posts in validation dataset\n"
     ]
    },
    {
     "data": {
      "text/html": [
       "\n",
       "  <div id=\"df-f4a35ecb-c1b8-466a-b66f-3fd725d4f55e\">\n",
       "    <div class=\"colab-df-container\">\n",
       "      <div>\n",
       "<style scoped>\n",
       "    .dataframe tbody tr th:only-of-type {\n",
       "        vertical-align: middle;\n",
       "    }\n",
       "\n",
       "    .dataframe tbody tr th {\n",
       "        vertical-align: top;\n",
       "    }\n",
       "\n",
       "    .dataframe thead th {\n",
       "        text-align: right;\n",
       "    }\n",
       "</style>\n",
       "<table border=\"1\" class=\"dataframe\">\n",
       "  <thead>\n",
       "    <tr style=\"text-align: right;\">\n",
       "      <th></th>\n",
       "      <th>subreddit</th>\n",
       "      <th>title</th>\n",
       "      <th>score</th>\n",
       "      <th>id</th>\n",
       "      <th>author</th>\n",
       "      <th>body</th>\n",
       "    </tr>\n",
       "  </thead>\n",
       "  <tbody>\n",
       "    <tr>\n",
       "      <th>0</th>\n",
       "      <td>Coffee</td>\n",
       "      <td>Reusable Nespresso Pods</td>\n",
       "      <td>3</td>\n",
       "      <td>j4d0i9</td>\n",
       "      <td>SaltyRob78</td>\n",
       "      <td>Hey there\\nI want to go the reusable pod route...</td>\n",
       "    </tr>\n",
       "    <tr>\n",
       "      <th>1</th>\n",
       "      <td>HydroHomies</td>\n",
       "      <td>Hydro News (sad) A city in US Michigan, Benton...</td>\n",
       "      <td>8</td>\n",
       "      <td>q6lb22</td>\n",
       "      <td>Kirinsdragon</td>\n",
       "      <td>I am not from the US and such news never reach...</td>\n",
       "    </tr>\n",
       "    <tr>\n",
       "      <th>2</th>\n",
       "      <td>Soda</td>\n",
       "      <td>Can’t find Sprite Zero Sugar Winter Spiced Cra...</td>\n",
       "      <td>2</td>\n",
       "      <td>rs0qmb</td>\n",
       "      <td>AnonymousPete23</td>\n",
       "      <td>Sprite released this limited edition soda for ...</td>\n",
       "    </tr>\n",
       "    <tr>\n",
       "      <th>3</th>\n",
       "      <td>tea</td>\n",
       "      <td>I have a lot of teas, loose and in bags, that ...</td>\n",
       "      <td>11</td>\n",
       "      <td>egwnfh</td>\n",
       "      <td>T_as_in_Pterodactyl</td>\n",
       "      <td>Long story short, I just have too many teas in...</td>\n",
       "    </tr>\n",
       "    <tr>\n",
       "      <th>4</th>\n",
       "      <td>Coffee</td>\n",
       "      <td>Should I rinse bamboo filters before pour over?</td>\n",
       "      <td>0</td>\n",
       "      <td>pkxx4y</td>\n",
       "      <td>jack_hof</td>\n",
       "      <td>Having a hard time finding an answer to this w...</td>\n",
       "    </tr>\n",
       "    <tr>\n",
       "      <th>...</th>\n",
       "      <td>...</td>\n",
       "      <td>...</td>\n",
       "      <td>...</td>\n",
       "      <td>...</td>\n",
       "      <td>...</td>\n",
       "      <td>...</td>\n",
       "    </tr>\n",
       "    <tr>\n",
       "      <th>395</th>\n",
       "      <td>Soda</td>\n",
       "      <td>Where and How can i preserve collectable sodas...</td>\n",
       "      <td>0</td>\n",
       "      <td>lvjhhw</td>\n",
       "      <td>Pokeboy99</td>\n",
       "      <td>I've had some sodas that i wanted to keep leak...</td>\n",
       "    </tr>\n",
       "    <tr>\n",
       "      <th>396</th>\n",
       "      <td>Soda</td>\n",
       "      <td>What American Soda should I get?</td>\n",
       "      <td>2</td>\n",
       "      <td>kuo4ky</td>\n",
       "      <td>Old_Advantage_2341</td>\n",
       "      <td>So I recently started selling an American Trea...</td>\n",
       "    </tr>\n",
       "    <tr>\n",
       "      <th>397</th>\n",
       "      <td>xbox</td>\n",
       "      <td>refund bought with a gift card</td>\n",
       "      <td>3</td>\n",
       "      <td>rtvh45</td>\n",
       "      <td>SwingStuff</td>\n",
       "      <td>just wondering if i bought something with a gi...</td>\n",
       "    </tr>\n",
       "    <tr>\n",
       "      <th>398</th>\n",
       "      <td>PS4</td>\n",
       "      <td>GTA V install crash</td>\n",
       "      <td>0</td>\n",
       "      <td>legirx</td>\n",
       "      <td>firewolf37</td>\n",
       "      <td>so i decided to reinstall gta v after the cayo...</td>\n",
       "    </tr>\n",
       "    <tr>\n",
       "      <th>399</th>\n",
       "      <td>tea</td>\n",
       "      <td>I'm fairly new to the world of tea. Getting of...</td>\n",
       "      <td>4</td>\n",
       "      <td>mz2kcv</td>\n",
       "      <td>frijolita_bonita</td>\n",
       "      <td>I've been drinking hibiscus tea and another lo...</td>\n",
       "    </tr>\n",
       "  </tbody>\n",
       "</table>\n",
       "<p>400 rows × 6 columns</p>\n",
       "</div>\n",
       "      <button class=\"colab-df-convert\" onclick=\"convertToInteractive('df-f4a35ecb-c1b8-466a-b66f-3fd725d4f55e')\"\n",
       "              title=\"Convert this dataframe to an interactive table.\"\n",
       "              style=\"display:none;\">\n",
       "        \n",
       "  <svg xmlns=\"http://www.w3.org/2000/svg\" height=\"24px\"viewBox=\"0 0 24 24\"\n",
       "       width=\"24px\">\n",
       "    <path d=\"M0 0h24v24H0V0z\" fill=\"none\"/>\n",
       "    <path d=\"M18.56 5.44l.94 2.06.94-2.06 2.06-.94-2.06-.94-.94-2.06-.94 2.06-2.06.94zm-11 1L8.5 8.5l.94-2.06 2.06-.94-2.06-.94L8.5 2.5l-.94 2.06-2.06.94zm10 10l.94 2.06.94-2.06 2.06-.94-2.06-.94-.94-2.06-.94 2.06-2.06.94z\"/><path d=\"M17.41 7.96l-1.37-1.37c-.4-.4-.92-.59-1.43-.59-.52 0-1.04.2-1.43.59L10.3 9.45l-7.72 7.72c-.78.78-.78 2.05 0 2.83L4 21.41c.39.39.9.59 1.41.59.51 0 1.02-.2 1.41-.59l7.78-7.78 2.81-2.81c.8-.78.8-2.07 0-2.86zM5.41 20L4 18.59l7.72-7.72 1.47 1.35L5.41 20z\"/>\n",
       "  </svg>\n",
       "      </button>\n",
       "      \n",
       "  <style>\n",
       "    .colab-df-container {\n",
       "      display:flex;\n",
       "      flex-wrap:wrap;\n",
       "      gap: 12px;\n",
       "    }\n",
       "\n",
       "    .colab-df-convert {\n",
       "      background-color: #E8F0FE;\n",
       "      border: none;\n",
       "      border-radius: 50%;\n",
       "      cursor: pointer;\n",
       "      display: none;\n",
       "      fill: #1967D2;\n",
       "      height: 32px;\n",
       "      padding: 0 0 0 0;\n",
       "      width: 32px;\n",
       "    }\n",
       "\n",
       "    .colab-df-convert:hover {\n",
       "      background-color: #E2EBFA;\n",
       "      box-shadow: 0px 1px 2px rgba(60, 64, 67, 0.3), 0px 1px 3px 1px rgba(60, 64, 67, 0.15);\n",
       "      fill: #174EA6;\n",
       "    }\n",
       "\n",
       "    [theme=dark] .colab-df-convert {\n",
       "      background-color: #3B4455;\n",
       "      fill: #D2E3FC;\n",
       "    }\n",
       "\n",
       "    [theme=dark] .colab-df-convert:hover {\n",
       "      background-color: #434B5C;\n",
       "      box-shadow: 0px 1px 3px 1px rgba(0, 0, 0, 0.15);\n",
       "      filter: drop-shadow(0px 1px 2px rgba(0, 0, 0, 0.3));\n",
       "      fill: #FFFFFF;\n",
       "    }\n",
       "  </style>\n",
       "\n",
       "      <script>\n",
       "        const buttonEl =\n",
       "          document.querySelector('#df-f4a35ecb-c1b8-466a-b66f-3fd725d4f55e button.colab-df-convert');\n",
       "        buttonEl.style.display =\n",
       "          google.colab.kernel.accessAllowed ? 'block' : 'none';\n",
       "\n",
       "        async function convertToInteractive(key) {\n",
       "          const element = document.querySelector('#df-f4a35ecb-c1b8-466a-b66f-3fd725d4f55e');\n",
       "          const dataTable =\n",
       "            await google.colab.kernel.invokeFunction('convertToInteractive',\n",
       "                                                     [key], {});\n",
       "          if (!dataTable) return;\n",
       "\n",
       "          const docLinkHtml = 'Like what you see? Visit the ' +\n",
       "            '<a target=\"_blank\" href=https://colab.research.google.com/notebooks/data_table.ipynb>data table notebook</a>'\n",
       "            + ' to learn more about interactive tables.';\n",
       "          element.innerHTML = '';\n",
       "          dataTable['output_type'] = 'display_data';\n",
       "          await google.colab.output.renderOutput(dataTable, element);\n",
       "          const docLink = document.createElement('div');\n",
       "          docLink.innerHTML = docLinkHtml;\n",
       "          element.appendChild(docLink);\n",
       "        }\n",
       "      </script>\n",
       "    </div>\n",
       "  </div>\n",
       "  "
      ],
      "text/plain": [
       "       subreddit                                              title  score  \\\n",
       "0         Coffee                            Reusable Nespresso Pods      3   \n",
       "1    HydroHomies  Hydro News (sad) A city in US Michigan, Benton...      8   \n",
       "2           Soda  Can’t find Sprite Zero Sugar Winter Spiced Cra...      2   \n",
       "3            tea  I have a lot of teas, loose and in bags, that ...     11   \n",
       "4         Coffee    Should I rinse bamboo filters before pour over?      0   \n",
       "..           ...                                                ...    ...   \n",
       "395         Soda  Where and How can i preserve collectable sodas...      0   \n",
       "396         Soda                   What American Soda should I get?      2   \n",
       "397         xbox                     refund bought with a gift card      3   \n",
       "398          PS4                                GTA V install crash      0   \n",
       "399          tea  I'm fairly new to the world of tea. Getting of...      4   \n",
       "\n",
       "         id               author  \\\n",
       "0    j4d0i9           SaltyRob78   \n",
       "1    q6lb22         Kirinsdragon   \n",
       "2    rs0qmb      AnonymousPete23   \n",
       "3    egwnfh  T_as_in_Pterodactyl   \n",
       "4    pkxx4y             jack_hof   \n",
       "..      ...                  ...   \n",
       "395  lvjhhw            Pokeboy99   \n",
       "396  kuo4ky   Old_Advantage_2341   \n",
       "397  rtvh45           SwingStuff   \n",
       "398  legirx           firewolf37   \n",
       "399  mz2kcv     frijolita_bonita   \n",
       "\n",
       "                                                  body  \n",
       "0    Hey there\\nI want to go the reusable pod route...  \n",
       "1    I am not from the US and such news never reach...  \n",
       "2    Sprite released this limited edition soda for ...  \n",
       "3    Long story short, I just have too many teas in...  \n",
       "4    Having a hard time finding an answer to this w...  \n",
       "..                                                 ...  \n",
       "395  I've had some sodas that i wanted to keep leak...  \n",
       "396  So I recently started selling an American Trea...  \n",
       "397  just wondering if i bought something with a gi...  \n",
       "398  so i decided to reinstall gta v after the cayo...  \n",
       "399  I've been drinking hibiscus tea and another lo...  \n",
       "\n",
       "[400 rows x 6 columns]"
      ]
     },
     "execution_count": 5,
     "metadata": {},
     "output_type": "execute_result"
    }
   ],
   "source": [
    "val_data_list = list()\n",
    "for pos, item in enumerate(validation_data):\n",
    "    val_data_list.append( (validation_data[pos]['subreddit'], validation_data[pos]['title'], validation_data[pos]['score'], validation_data[pos]['id'], validation_data[pos]['author'], validation_data[pos]['body']))\n",
    "print(\"We have %d Reddit posts in validation dataset\"  % len(val_data_list))\n",
    "val_data_df = pd.DataFrame(val_data_list, columns=collabels)\n",
    "val_data_df"
   ]
  },
  {
   "cell_type": "markdown",
   "metadata": {
    "id": "l82wHqE-kRdL"
   },
   "source": [
    "*   **Test Dataset**\n",
    "is used to provide an unbiased evaluation of a final model fitted on the training dataset"
   ]
  },
  {
   "cell_type": "code",
   "execution_count": 6,
   "metadata": {
    "colab": {
     "base_uri": "https://localhost:8080/",
     "height": 441
    },
    "id": "JrXKryfnkHwV",
    "outputId": "8b91cb53-87ce-4e45-96ed-588cabbb21fa"
   },
   "outputs": [
    {
     "name": "stdout",
     "output_type": "stream",
     "text": [
      "We have 400 Reddit posts in test dataset\n"
     ]
    },
    {
     "data": {
      "text/html": [
       "\n",
       "  <div id=\"df-943b0dd6-1f10-42f5-b6ba-534db674aaf9\">\n",
       "    <div class=\"colab-df-container\">\n",
       "      <div>\n",
       "<style scoped>\n",
       "    .dataframe tbody tr th:only-of-type {\n",
       "        vertical-align: middle;\n",
       "    }\n",
       "\n",
       "    .dataframe tbody tr th {\n",
       "        vertical-align: top;\n",
       "    }\n",
       "\n",
       "    .dataframe thead th {\n",
       "        text-align: right;\n",
       "    }\n",
       "</style>\n",
       "<table border=\"1\" class=\"dataframe\">\n",
       "  <thead>\n",
       "    <tr style=\"text-align: right;\">\n",
       "      <th></th>\n",
       "      <th>subreddit</th>\n",
       "      <th>title</th>\n",
       "      <th>score</th>\n",
       "      <th>id</th>\n",
       "      <th>author</th>\n",
       "      <th>body</th>\n",
       "    </tr>\n",
       "  </thead>\n",
       "  <tbody>\n",
       "    <tr>\n",
       "      <th>0</th>\n",
       "      <td>Coffee</td>\n",
       "      <td>Best Indie Coffee Brands that have K-Cups?</td>\n",
       "      <td>0</td>\n",
       "      <td>3s7usq</td>\n",
       "      <td>GrandRapidsCreative</td>\n",
       "      <td>I know most aren't the biggest fan of K-Cups a...</td>\n",
       "    </tr>\n",
       "    <tr>\n",
       "      <th>1</th>\n",
       "      <td>NintendoSwitch</td>\n",
       "      <td>How do you decide when to keep playing or when...</td>\n",
       "      <td>125</td>\n",
       "      <td>r8luun</td>\n",
       "      <td>windlep7</td>\n",
       "      <td>I know the obvious answer is to give up if you...</td>\n",
       "    </tr>\n",
       "    <tr>\n",
       "      <th>2</th>\n",
       "      <td>xbox</td>\n",
       "      <td>So I’m relatively new on Xbox, and have a ques...</td>\n",
       "      <td>1</td>\n",
       "      <td>qwzis0</td>\n",
       "      <td>GoblinGuide93</td>\n",
       "      <td>I was playing infinite with friends in the par...</td>\n",
       "    </tr>\n",
       "    <tr>\n",
       "      <th>3</th>\n",
       "      <td>tea</td>\n",
       "      <td>Best gyokuro vendors in the US?</td>\n",
       "      <td>5</td>\n",
       "      <td>m1m3as</td>\n",
       "      <td>SocioDexter70</td>\n",
       "      <td>Ive only ever tried Ippodo since they have a U...</td>\n",
       "    </tr>\n",
       "    <tr>\n",
       "      <th>4</th>\n",
       "      <td>antiMLM</td>\n",
       "      <td>My Mary Kay hun neighbor has a \"no soliciting\"...</td>\n",
       "      <td>1038</td>\n",
       "      <td>pg5gs0</td>\n",
       "      <td>OkWallaby0009</td>\n",
       "      <td>I guess she doesn't like to be bothered by peo...</td>\n",
       "    </tr>\n",
       "    <tr>\n",
       "      <th>...</th>\n",
       "      <td>...</td>\n",
       "      <td>...</td>\n",
       "      <td>...</td>\n",
       "      <td>...</td>\n",
       "      <td>...</td>\n",
       "      <td>...</td>\n",
       "    </tr>\n",
       "    <tr>\n",
       "      <th>395</th>\n",
       "      <td>pcgaming</td>\n",
       "      <td>I'm blown away by how much better Linux suppor...</td>\n",
       "      <td>152</td>\n",
       "      <td>fv1cgw</td>\n",
       "      <td>UnDispelled</td>\n",
       "      <td>This is just a post I wanted to make praising ...</td>\n",
       "    </tr>\n",
       "    <tr>\n",
       "      <th>396</th>\n",
       "      <td>NintendoSwitch</td>\n",
       "      <td>TIL I can use USB-C Headphones on my Switch</td>\n",
       "      <td>213</td>\n",
       "      <td>anqw0e</td>\n",
       "      <td>LufiXx</td>\n",
       "      <td>While on the train this morning i put in my Hu...</td>\n",
       "    </tr>\n",
       "    <tr>\n",
       "      <th>397</th>\n",
       "      <td>NintendoSwitch</td>\n",
       "      <td>Shin Megami Tensei V is the Dark Souls of Poke...</td>\n",
       "      <td>0</td>\n",
       "      <td>r1ev6l</td>\n",
       "      <td>ramen_junk</td>\n",
       "      <td>This is the first SMT game I ever played and I...</td>\n",
       "    </tr>\n",
       "    <tr>\n",
       "      <th>398</th>\n",
       "      <td>pcgaming</td>\n",
       "      <td>Gaming 20 years in the future, what are your o...</td>\n",
       "      <td>35</td>\n",
       "      <td>pj00n4</td>\n",
       "      <td>Pretend-Tangelo56</td>\n",
       "      <td>I urge you to be creative with your opinions.\\...</td>\n",
       "    </tr>\n",
       "    <tr>\n",
       "      <th>399</th>\n",
       "      <td>Soda</td>\n",
       "      <td>Where can I buy Fanta Shokata (Elderberry - Le...</td>\n",
       "      <td>1</td>\n",
       "      <td>rui7se</td>\n",
       "      <td>piotrowskid</td>\n",
       "      <td>The soda is so good. I first tried it when I w...</td>\n",
       "    </tr>\n",
       "  </tbody>\n",
       "</table>\n",
       "<p>400 rows × 6 columns</p>\n",
       "</div>\n",
       "      <button class=\"colab-df-convert\" onclick=\"convertToInteractive('df-943b0dd6-1f10-42f5-b6ba-534db674aaf9')\"\n",
       "              title=\"Convert this dataframe to an interactive table.\"\n",
       "              style=\"display:none;\">\n",
       "        \n",
       "  <svg xmlns=\"http://www.w3.org/2000/svg\" height=\"24px\"viewBox=\"0 0 24 24\"\n",
       "       width=\"24px\">\n",
       "    <path d=\"M0 0h24v24H0V0z\" fill=\"none\"/>\n",
       "    <path d=\"M18.56 5.44l.94 2.06.94-2.06 2.06-.94-2.06-.94-.94-2.06-.94 2.06-2.06.94zm-11 1L8.5 8.5l.94-2.06 2.06-.94-2.06-.94L8.5 2.5l-.94 2.06-2.06.94zm10 10l.94 2.06.94-2.06 2.06-.94-2.06-.94-.94-2.06-.94 2.06-2.06.94z\"/><path d=\"M17.41 7.96l-1.37-1.37c-.4-.4-.92-.59-1.43-.59-.52 0-1.04.2-1.43.59L10.3 9.45l-7.72 7.72c-.78.78-.78 2.05 0 2.83L4 21.41c.39.39.9.59 1.41.59.51 0 1.02-.2 1.41-.59l7.78-7.78 2.81-2.81c.8-.78.8-2.07 0-2.86zM5.41 20L4 18.59l7.72-7.72 1.47 1.35L5.41 20z\"/>\n",
       "  </svg>\n",
       "      </button>\n",
       "      \n",
       "  <style>\n",
       "    .colab-df-container {\n",
       "      display:flex;\n",
       "      flex-wrap:wrap;\n",
       "      gap: 12px;\n",
       "    }\n",
       "\n",
       "    .colab-df-convert {\n",
       "      background-color: #E8F0FE;\n",
       "      border: none;\n",
       "      border-radius: 50%;\n",
       "      cursor: pointer;\n",
       "      display: none;\n",
       "      fill: #1967D2;\n",
       "      height: 32px;\n",
       "      padding: 0 0 0 0;\n",
       "      width: 32px;\n",
       "    }\n",
       "\n",
       "    .colab-df-convert:hover {\n",
       "      background-color: #E2EBFA;\n",
       "      box-shadow: 0px 1px 2px rgba(60, 64, 67, 0.3), 0px 1px 3px 1px rgba(60, 64, 67, 0.15);\n",
       "      fill: #174EA6;\n",
       "    }\n",
       "\n",
       "    [theme=dark] .colab-df-convert {\n",
       "      background-color: #3B4455;\n",
       "      fill: #D2E3FC;\n",
       "    }\n",
       "\n",
       "    [theme=dark] .colab-df-convert:hover {\n",
       "      background-color: #434B5C;\n",
       "      box-shadow: 0px 1px 3px 1px rgba(0, 0, 0, 0.15);\n",
       "      filter: drop-shadow(0px 1px 2px rgba(0, 0, 0, 0.3));\n",
       "      fill: #FFFFFF;\n",
       "    }\n",
       "  </style>\n",
       "\n",
       "      <script>\n",
       "        const buttonEl =\n",
       "          document.querySelector('#df-943b0dd6-1f10-42f5-b6ba-534db674aaf9 button.colab-df-convert');\n",
       "        buttonEl.style.display =\n",
       "          google.colab.kernel.accessAllowed ? 'block' : 'none';\n",
       "\n",
       "        async function convertToInteractive(key) {\n",
       "          const element = document.querySelector('#df-943b0dd6-1f10-42f5-b6ba-534db674aaf9');\n",
       "          const dataTable =\n",
       "            await google.colab.kernel.invokeFunction('convertToInteractive',\n",
       "                                                     [key], {});\n",
       "          if (!dataTable) return;\n",
       "\n",
       "          const docLinkHtml = 'Like what you see? Visit the ' +\n",
       "            '<a target=\"_blank\" href=https://colab.research.google.com/notebooks/data_table.ipynb>data table notebook</a>'\n",
       "            + ' to learn more about interactive tables.';\n",
       "          element.innerHTML = '';\n",
       "          dataTable['output_type'] = 'display_data';\n",
       "          await google.colab.output.renderOutput(dataTable, element);\n",
       "          const docLink = document.createElement('div');\n",
       "          docLink.innerHTML = docLinkHtml;\n",
       "          element.appendChild(docLink);\n",
       "        }\n",
       "      </script>\n",
       "    </div>\n",
       "  </div>\n",
       "  "
      ],
      "text/plain": [
       "          subreddit                                              title  score  \\\n",
       "0            Coffee         Best Indie Coffee Brands that have K-Cups?      0   \n",
       "1    NintendoSwitch  How do you decide when to keep playing or when...    125   \n",
       "2              xbox  So I’m relatively new on Xbox, and have a ques...      1   \n",
       "3               tea                    Best gyokuro vendors in the US?      5   \n",
       "4           antiMLM  My Mary Kay hun neighbor has a \"no soliciting\"...   1038   \n",
       "..              ...                                                ...    ...   \n",
       "395        pcgaming  I'm blown away by how much better Linux suppor...    152   \n",
       "396  NintendoSwitch        TIL I can use USB-C Headphones on my Switch    213   \n",
       "397  NintendoSwitch  Shin Megami Tensei V is the Dark Souls of Poke...      0   \n",
       "398        pcgaming  Gaming 20 years in the future, what are your o...     35   \n",
       "399            Soda  Where can I buy Fanta Shokata (Elderberry - Le...      1   \n",
       "\n",
       "         id               author  \\\n",
       "0    3s7usq  GrandRapidsCreative   \n",
       "1    r8luun             windlep7   \n",
       "2    qwzis0        GoblinGuide93   \n",
       "3    m1m3as        SocioDexter70   \n",
       "4    pg5gs0        OkWallaby0009   \n",
       "..      ...                  ...   \n",
       "395  fv1cgw          UnDispelled   \n",
       "396  anqw0e               LufiXx   \n",
       "397  r1ev6l           ramen_junk   \n",
       "398  pj00n4    Pretend-Tangelo56   \n",
       "399  rui7se          piotrowskid   \n",
       "\n",
       "                                                  body  \n",
       "0    I know most aren't the biggest fan of K-Cups a...  \n",
       "1    I know the obvious answer is to give up if you...  \n",
       "2    I was playing infinite with friends in the par...  \n",
       "3    Ive only ever tried Ippodo since they have a U...  \n",
       "4    I guess she doesn't like to be bothered by peo...  \n",
       "..                                                 ...  \n",
       "395  This is just a post I wanted to make praising ...  \n",
       "396  While on the train this morning i put in my Hu...  \n",
       "397  This is the first SMT game I ever played and I...  \n",
       "398  I urge you to be creative with your opinions.\\...  \n",
       "399  The soda is so good. I first tried it when I w...  \n",
       "\n",
       "[400 rows x 6 columns]"
      ]
     },
     "execution_count": 6,
     "metadata": {},
     "output_type": "execute_result"
    }
   ],
   "source": [
    "test_data_list = list()\n",
    "for pos, item in enumerate(test_data):\n",
    "    test_data_list.append( (test_data[pos]['subreddit'], test_data[pos]['title'], test_data[pos]['score'], test_data[pos]['id'], test_data[pos]['author'], test_data[pos]['body']))                  \n",
    "print(\"We have %d Reddit posts in test dataset\"  % len(test_data_list))\n",
    "test_data_df = pd.DataFrame(test_data_list, columns=collabels)\n",
    "test_data_df"
   ]
  },
  {
   "cell_type": "markdown",
   "metadata": {
    "id": "dIQeFE1tt_6U"
   },
   "source": [
    "\n",
    "\n",
    "*  **Label distribution in Training/Validation/Test dataset**\n",
    "\n"
   ]
  },
  {
   "cell_type": "markdown",
   "metadata": {
    "id": "nV8Js_EDuhBe"
   },
   "source": [
    "**display_side_by_side** function used for displaying two dataframes side my side."
   ]
  },
  {
   "cell_type": "code",
   "execution_count": 7,
   "metadata": {
    "id": "wNMTEbX0btI9"
   },
   "outputs": [],
   "source": [
    "def display_side_by_side(*args):\n",
    "    html_str=''\n",
    "    for df in args:\n",
    "        html_str+=df.to_html()\n",
    "    display_html(html_str.replace('table','table style=\"display:inline\"'),raw=True)"
   ]
  },
  {
   "cell_type": "code",
   "execution_count": 8,
   "metadata": {
    "colab": {
     "base_uri": "https://localhost:8080/",
     "height": 837
    },
    "id": "Lm1jqVJ9yl5I",
    "outputId": "abddc999-b5eb-47f7-8ecc-120bf6583450"
   },
   "outputs": [
    {
     "name": "stdout",
     "output_type": "stream",
     "text": [
      "Training data contains 9 unique labels/subreddit\n",
      "Validation data contains 9 unique labels/subreddit\n",
      "Test data contains 9 unique labels/subreddit\n",
      "\n",
      "     Distribution of labels in Training set      Distribution of labels in Validation set          Distribution of labels in Test set\n"
     ]
    },
    {
     "data": {
      "text/html": [
       "<table style=\"display:inline\" border=\"1\" class=\"dataframe\">\n",
       "  <thead>\n",
       "    <tr style=\"text-align: right;\">\n",
       "      <th></th>\n",
       "      <th>subreddit</th>\n",
       "      <th>count</th>\n",
       "      <th>prior_probabilities</th>\n",
       "    </tr>\n",
       "  </thead>\n",
       "  <tbody>\n",
       "    <tr>\n",
       "      <th>0</th>\n",
       "      <td>PS4</td>\n",
       "      <td>142</td>\n",
       "      <td>0.118</td>\n",
       "    </tr>\n",
       "    <tr>\n",
       "      <th>1</th>\n",
       "      <td>pcgaming</td>\n",
       "      <td>135</td>\n",
       "      <td>0.112</td>\n",
       "    </tr>\n",
       "    <tr>\n",
       "      <th>2</th>\n",
       "      <td>NintendoSwitch</td>\n",
       "      <td>145</td>\n",
       "      <td>0.121</td>\n",
       "    </tr>\n",
       "    <tr>\n",
       "      <th>3</th>\n",
       "      <td>antiMLM</td>\n",
       "      <td>128</td>\n",
       "      <td>0.107</td>\n",
       "    </tr>\n",
       "    <tr>\n",
       "      <th>4</th>\n",
       "      <td>HydroHomies</td>\n",
       "      <td>134</td>\n",
       "      <td>0.112</td>\n",
       "    </tr>\n",
       "    <tr>\n",
       "      <th>5</th>\n",
       "      <td>Coffee</td>\n",
       "      <td>136</td>\n",
       "      <td>0.113</td>\n",
       "    </tr>\n",
       "    <tr>\n",
       "      <th>6</th>\n",
       "      <td>xbox</td>\n",
       "      <td>132</td>\n",
       "      <td>0.110</td>\n",
       "    </tr>\n",
       "    <tr>\n",
       "      <th>7</th>\n",
       "      <td>Soda</td>\n",
       "      <td>102</td>\n",
       "      <td>0.085</td>\n",
       "    </tr>\n",
       "    <tr>\n",
       "      <th>8</th>\n",
       "      <td>tea</td>\n",
       "      <td>146</td>\n",
       "      <td>0.122</td>\n",
       "    </tr>\n",
       "  </tbody>\n",
       "</table style=\"display:inline\"><table style=\"display:inline\" border=\"1\" class=\"dataframe\">\n",
       "  <thead>\n",
       "    <tr style=\"text-align: right;\">\n",
       "      <th></th>\n",
       "      <th>subreddit</th>\n",
       "      <th>count</th>\n",
       "      <th>prior_probabilities</th>\n",
       "    </tr>\n",
       "  </thead>\n",
       "  <tbody>\n",
       "    <tr>\n",
       "      <th>0</th>\n",
       "      <td>Coffee</td>\n",
       "      <td>42</td>\n",
       "      <td>0.105</td>\n",
       "    </tr>\n",
       "    <tr>\n",
       "      <th>1</th>\n",
       "      <td>HydroHomies</td>\n",
       "      <td>38</td>\n",
       "      <td>0.095</td>\n",
       "    </tr>\n",
       "    <tr>\n",
       "      <th>2</th>\n",
       "      <td>Soda</td>\n",
       "      <td>43</td>\n",
       "      <td>0.108</td>\n",
       "    </tr>\n",
       "    <tr>\n",
       "      <th>3</th>\n",
       "      <td>tea</td>\n",
       "      <td>48</td>\n",
       "      <td>0.120</td>\n",
       "    </tr>\n",
       "    <tr>\n",
       "      <th>4</th>\n",
       "      <td>PS4</td>\n",
       "      <td>43</td>\n",
       "      <td>0.108</td>\n",
       "    </tr>\n",
       "    <tr>\n",
       "      <th>5</th>\n",
       "      <td>pcgaming</td>\n",
       "      <td>43</td>\n",
       "      <td>0.108</td>\n",
       "    </tr>\n",
       "    <tr>\n",
       "      <th>6</th>\n",
       "      <td>xbox</td>\n",
       "      <td>37</td>\n",
       "      <td>0.092</td>\n",
       "    </tr>\n",
       "    <tr>\n",
       "      <th>7</th>\n",
       "      <td>NintendoSwitch</td>\n",
       "      <td>52</td>\n",
       "      <td>0.130</td>\n",
       "    </tr>\n",
       "    <tr>\n",
       "      <th>8</th>\n",
       "      <td>antiMLM</td>\n",
       "      <td>54</td>\n",
       "      <td>0.135</td>\n",
       "    </tr>\n",
       "  </tbody>\n",
       "</table style=\"display:inline\"><table style=\"display:inline\" border=\"1\" class=\"dataframe\">\n",
       "  <thead>\n",
       "    <tr style=\"text-align: right;\">\n",
       "      <th></th>\n",
       "      <th>subreddit</th>\n",
       "      <th>count</th>\n",
       "      <th>prior_probabilities</th>\n",
       "    </tr>\n",
       "  </thead>\n",
       "  <tbody>\n",
       "    <tr>\n",
       "      <th>0</th>\n",
       "      <td>Coffee</td>\n",
       "      <td>56</td>\n",
       "      <td>0.140</td>\n",
       "    </tr>\n",
       "    <tr>\n",
       "      <th>1</th>\n",
       "      <td>NintendoSwitch</td>\n",
       "      <td>52</td>\n",
       "      <td>0.130</td>\n",
       "    </tr>\n",
       "    <tr>\n",
       "      <th>2</th>\n",
       "      <td>xbox</td>\n",
       "      <td>44</td>\n",
       "      <td>0.110</td>\n",
       "    </tr>\n",
       "    <tr>\n",
       "      <th>3</th>\n",
       "      <td>tea</td>\n",
       "      <td>42</td>\n",
       "      <td>0.105</td>\n",
       "    </tr>\n",
       "    <tr>\n",
       "      <th>4</th>\n",
       "      <td>antiMLM</td>\n",
       "      <td>44</td>\n",
       "      <td>0.110</td>\n",
       "    </tr>\n",
       "    <tr>\n",
       "      <th>5</th>\n",
       "      <td>pcgaming</td>\n",
       "      <td>47</td>\n",
       "      <td>0.118</td>\n",
       "    </tr>\n",
       "    <tr>\n",
       "      <th>6</th>\n",
       "      <td>PS4</td>\n",
       "      <td>48</td>\n",
       "      <td>0.120</td>\n",
       "    </tr>\n",
       "    <tr>\n",
       "      <th>7</th>\n",
       "      <td>HydroHomies</td>\n",
       "      <td>38</td>\n",
       "      <td>0.095</td>\n",
       "    </tr>\n",
       "    <tr>\n",
       "      <th>8</th>\n",
       "      <td>Soda</td>\n",
       "      <td>29</td>\n",
       "      <td>0.072</td>\n",
       "    </tr>\n",
       "  </tbody>\n",
       "</table style=\"display:inline\">"
      ]
     },
     "metadata": {},
     "output_type": "display_data"
    },
    {
     "name": "stdout",
     "output_type": "stream",
     "text": [
      "\n"
     ]
    },
    {
     "data": {
      "image/png": "[encoded data removed]",
      "text/plain": [
       "<Figure size 1440x360 with 3 Axes>"
      ]
     },
     "metadata": {
      "needs_background": "light"
     },
     "output_type": "display_data"
    }
   ],
   "source": [
    "figure, axes = plt.subplots(1, 3,figsize=(20,5))\n",
    "\n",
    "#training data\n",
    "uniquelabels_tr = train_data_df['subreddit'].unique()\n",
    "print(\"Training data contains %d unique labels/subreddit\" % len(uniquelabels_tr))\n",
    "\n",
    "tr_label_counts = collections.Counter(train_data_df['subreddit'])\n",
    "tr_list=[]\n",
    "for label in tr_label_counts:\n",
    "  tr_list.append([label,tr_label_counts[label],np.round(tr_label_counts[label] / len(train_data_df),3)])\n",
    "tr_label = pd.DataFrame(tr_list,columns=['subreddit','count','prior_probabilities'])\n",
    "tr_label.plot.bar(x='subreddit', y='count', ax=axes[0])\n",
    "axes[0].title.set_text(\"Distribution of labels in the Training set \")\n",
    "\n",
    "#validation data\n",
    "uniquelabels_val = val_data_df['subreddit'].unique()\n",
    "print(\"Validation data contains %d unique labels/subreddit\" % len(uniquelabels_val))\n",
    "\n",
    "val_label_counts = collections.Counter(val_data_df['subreddit'])\n",
    "val_list=[]\n",
    "for label in val_label_counts:\n",
    "  val_list.append([label,val_label_counts[label],np.round(val_label_counts[label] / len(val_data_df),3)])\n",
    "val_label = pd.DataFrame(val_list,columns=['subreddit','count','prior_probabilities'])\n",
    "val_label.plot.bar(x='subreddit', y='count', ax=axes[1])\n",
    "axes[1].title.set_text(\"Distribution of labels in the Validation set \")\n",
    "\n",
    "#test data\n",
    "uniquelabels_test = test_data_df['subreddit'].unique()\n",
    "print(\"Test data contains %d unique labels/subreddit\" % len(uniquelabels_test))\n",
    "\n",
    "test_label_counts = collections.Counter(test_data_df['subreddit'])\n",
    "test_list=[]\n",
    "for label in test_label_counts:\n",
    "  test_list.append([label,test_label_counts[label],np.round(test_label_counts[label] / len(test_data_df),3)])\n",
    "test_label = pd.DataFrame(test_list,columns=['subreddit','count','prior_probabilities'])\n",
    "test_label.style.set_caption(\"Training Set\")\n",
    "test_label.plot.bar(x='subreddit', y='count',ax=axes[2])\n",
    "axes[2].title.set_text(\"Distribution of labels in the Test set \")\n",
    "\n",
    "print()\n",
    "print(\"     Distribution of labels in Training set      Distribution of labels in Validation set          Distribution of labels in Test set\")\n",
    "display_side_by_side(tr_label,val_label,test_label)\n",
    "\n",
    "print()\n",
    "for ax in axes.flat:\n",
    "    ax.set(xlabel='subreddits', ylabel='Count')"
   ]
  },
  {
   "cell_type": "markdown",
   "metadata": {
    "id": "YbAnmOn9Av2e"
   },
   "source": [
    "\n",
    "\n",
    "*   Analysing some statistics of datasets to check whether albels are evenly distributed among train, validation and test set. All of these labels appear in the three  datasets, however they are not uniformly distributed, and I suspcet that data is biased. \n",
    "*   For example, 8% training set data has label ‘soda’, while validation set has 11% soda label, and test set has a 7% soda label. Similarly, training set has 11% antiMLM as a label, while validation set has 14% antiMLM as a label, and test set has 11% antiMLM as a label.\n",
    "\n",
    "\n"
   ]
  },
  {
   "cell_type": "code",
   "execution_count": 9,
   "metadata": {
    "colab": {
     "base_uri": "https://localhost:8080/"
    },
    "id": "457VZaGZnfNV",
    "outputId": "74a118b1-8ad0-4091-bc22-856ee44885bc"
   },
   "outputs": [
    {
     "name": "stdout",
     "output_type": "stream",
     "text": [
      "Training set contains 8% soda as label\n",
      "Validation set contains 11% soda as label\n",
      "Test set contains 7% soda as label\n",
      "\n",
      "Training set contains 11% antiMLM as label\n",
      "Validation set contains 14% antiMLM as label\n",
      "Test set contains 11% antiMLM as label\n"
     ]
    }
   ],
   "source": [
    "number_soda_train = sum(train_data_df['subreddit'] == 'Soda')\n",
    "number_soda_val = sum(val_data_df['subreddit'] == 'Soda')\n",
    "number_soda_test = sum(test_data_df['subreddit'] == 'Soda')\n",
    "\n",
    "print('Training set contains %0.0f%% soda as label' % (100*number_soda_train/len(train_data_df)))\n",
    "print('Validation set contains %0.0f%% soda as label' % (100*number_soda_val/len(val_data_df)))\n",
    "print('Test set contains %0.0f%% soda as label' % (100*number_soda_test/len(test_data_df)))\n",
    "\n",
    "print()\n",
    "\n",
    "number_antiMLM_train = sum(train_data_df['subreddit'] == 'antiMLM')\n",
    "number_antiMLM_val = sum(val_data_df['subreddit'] == 'antiMLM')\n",
    "number_antiMLM_test = sum(test_data_df['subreddit'] == 'antiMLM')\n",
    "\n",
    "print('Training set contains %0.0f%% antiMLM as label' % (100*number_antiMLM_train/len(train_data_df)))\n",
    "print('Validation set contains %0.0f%% antiMLM as label' % (100*number_antiMLM_val/len(val_data_df)))\n",
    "print('Test set contains %0.0f%% antiMLM as label' % (100*number_antiMLM_test/len(test_data_df)))"
   ]
  },
  {
   "cell_type": "markdown",
   "metadata": {
    "id": "11oTA7EIfNne"
   },
   "source": [
    "### **Q1b:Implementing Classifiers**\n",
    "Implement five classifiers, train them on the training set and evaluate on the test set."
   ]
  },
  {
   "cell_type": "markdown",
   "metadata": {
    "id": "CNxOyNFdYLmd"
   },
   "source": [
    "**text_pipeline_spacy() function tokenize and normalize the text (column name - 'body') from reddit posts.**\n",
    ":Function split the text into group of words(also called tokens), eliminate stopwords, punctuations and space, and after lemmatization it return lower case tokens"
   ]
  },
  {
   "cell_type": "code",
   "execution_count": 10,
   "metadata": {
    "id": "Sce05x5db3lc"
   },
   "outputs": [],
   "source": [
    "def text_pipeline_spacy(text):\n",
    "    tokens = []\n",
    "    doc = nlp(text)\n",
    "    for t in doc:\n",
    "        if not t.is_stop and not t.is_punct and not t.is_space:\n",
    "            tokens.append(t.lemma_.lower())\n",
    "    return tokens\n",
    "#text_pipeline_spacy(\"hHi How are you? What you doing?\")"
   ]
  },
  {
   "cell_type": "markdown",
   "metadata": {
    "id": "yjUe7_RoUtMu"
   },
   "source": [
    "**ItemSelector() function is a custome made transformer used for column selection** Result of this transformer is a dataframe"
   ]
  },
  {
   "cell_type": "code",
   "execution_count": 11,
   "metadata": {
    "id": "IlQpSPOucVUB"
   },
   "outputs": [],
   "source": [
    "class ItemSelector(BaseEstimator, TransformerMixin):\n",
    "    \"\"\"For data grouped by feature, select subset of data at a provided key.    \"\"\"\n",
    "    def __init__(self, key):\n",
    "        self.key = key\n",
    "\n",
    "    def fit(self, x, y=None):\n",
    "        return self\n",
    "\n",
    "    def transform(self, data_dict):\n",
    "        return data_dict[self.key]"
   ]
  },
  {
   "cell_type": "markdown",
   "metadata": {
    "id": "cBTVbaxiBAcm"
   },
   "source": [
    "\n",
    "\n",
    "**evaluation_summary() function prints out an evaluation summary with  performance metrics icluding accuracy, precision, recall and\tF1 Score as well as a 'classification report'**\n",
    "\n"
   ]
  },
  {
   "cell_type": "code",
   "execution_count": 12,
   "metadata": {
    "id": "-fPBLcI-cYW3"
   },
   "outputs": [],
   "source": [
    "def evaluation_summary(description, true_labels, predictions, target_classes):\n",
    "  print(\"Evaluation for: \" + description)\n",
    "  print(classification_report(true_labels, predictions,  digits=3, zero_division=0, target_names=target_classes))\n",
    "  #print('\\nConfusion matrix:\\n',confusion_matrix(true_labels, predictions)) "
   ]
  },
  {
   "cell_type": "markdown",
   "metadata": {
    "id": "wNRIxSn1ANx0"
   },
   "source": [
    "Vectorization is a technique for converting text documents into numerical vectors. **Count Vectorizer** is one of the simplest ways to vectorize text. Fit the vectorizer model (with default settings) on the training data column ‘body’ to learn the word vocabulary and transform the text in column ‘body’ to a document term matrix in which the individual cells reflect term frequency within the document (each reddit post body), and the columns reflects each word in the corpus (entire train_data[‘body’]).In built tokenizer in CountVectorizer divides sentences into a collection of tokens in the lexicon. Punctuation and special characters are also removed."
   ]
  },
  {
   "cell_type": "code",
   "execution_count": 13,
   "metadata": {
    "id": "VLIMt_WpWGSQ"
   },
   "outputs": [],
   "source": [
    "# Create a one-hot encoding vectorizer. Pass in the tokenizer as the tokenizer to the vectorizer.\n",
    "onehot_vectorizer = CountVectorizer()\n",
    "tr_vector_onehot = onehot_vectorizer.fit_transform(train_data_df['body'].tolist())\n",
    "val__vector_onehot = onehot_vectorizer.transform(val_data_df['body'])\n",
    "test_vector_onehot = onehot_vectorizer.transform(test_data_df['body'])"
   ]
  },
  {
   "cell_type": "markdown",
   "metadata": {
    "id": "jeqGUd1Jg8Tk"
   },
   "source": [
    "**TF-IDF (Term Frequency-Inverse Document Frequency) vectorizer**: It tells the model about the significance of a word in a dataset. It relies on two concepts-term frequency (TF) and inverse document frequency (IDF). The frequency with which a word appears in the document/corpus is indicated by TF.TF indicates how frequently a word is appeared in the document/corpus. The IDF is used to determine the significance of a word in a document. Words that occur less frequently are more informative. This vectorizer was used with the default settings and its built-in tokenizer."
   ]
  },
  {
   "cell_type": "code",
   "execution_count": 14,
   "metadata": {
    "id": "dEwY9QSr5a6T"
   },
   "outputs": [],
   "source": [
    "#create TF-IDF vectorization. Pass in the tokenizer as the tokenizer to the vectorizer.\n",
    "tfidf_vectorizer = TfidfVectorizer()\n",
    "tr_vector_tfidf = tfidf_vectorizer.fit_transform(train_data_df['body'].tolist())\n",
    "val_vector_tfidf = tfidf_vectorizer.transform(val_data_df['body'])\n",
    "test_vector_tfidf = tfidf_vectorizer.transform(test_data_df['body'])"
   ]
  },
  {
   "cell_type": "markdown",
   "metadata": {
    "id": "mhO0ukc9ASvF"
   },
   "source": [
    "**Extracting the labels for each of the datasets**"
   ]
  },
  {
   "cell_type": "code",
   "execution_count": 15,
   "metadata": {
    "id": "TS-ChAO5Wmsg"
   },
   "outputs": [],
   "source": [
    "train_labels = train_data_df['subreddit']\n",
    "val_labels = val_data_df['subreddit']\n",
    "test_labels = test_data_df['subreddit']"
   ]
  },
  {
   "cell_type": "markdown",
   "metadata": {
    "id": "e_T5BdRMPz8y"
   },
   "source": [
    "\n",
    "\n",
    "1.   **Dummy Classifier with strategy=\"most_frequent\"**\n",
    "\n",
    "\n",
    "*   This classifier is used as a baseline for other classifiers that means on the given dataset other classifiers are expected to perform better. It classifies the data using simple rules and predicts most frequent class label in the training dataset by ignoring the input feature values passed as the X argument to fit and predict\n"
   ]
  },
  {
   "cell_type": "markdown",
   "metadata": {
    "id": "rM6iIgeKRzxv"
   },
   "source": [
    "\n",
    "\n",
    "*   Training set - Trained dummy classifier on the training set \n",
    "\n"
   ]
  },
  {
   "cell_type": "code",
   "execution_count": 16,
   "metadata": {
    "colab": {
     "base_uri": "https://localhost:8080/",
     "height": 660
    },
    "id": "KMuR70rWXMVW",
    "outputId": "5411318e-d550-4081-ebd6-f85eea02a878"
   },
   "outputs": [
    {
     "name": "stdout",
     "output_type": "stream",
     "text": [
      "Evaluation for: Dummy Classifier['most_frequent']: Training set\n",
      "                precision    recall  f1-score   support\n",
      "\n",
      "           PS4      0.000     0.000     0.000       136\n",
      "      pcgaming      0.000     0.000     0.000       134\n",
      "NintendoSwitch      0.000     0.000     0.000       145\n",
      "       antiMLM      0.000     0.000     0.000       142\n",
      "   HydroHomies      0.000     0.000     0.000       102\n",
      "        Coffee      0.000     0.000     0.000       128\n",
      "          xbox      0.000     0.000     0.000       135\n",
      "          Soda      0.122     1.000     0.217       146\n",
      "           tea      0.000     0.000     0.000       132\n",
      "\n",
      "      accuracy                          0.122      1200\n",
      "     macro avg      0.014     0.111     0.024      1200\n",
      "  weighted avg      0.015     0.122     0.026      1200\n",
      "\n"
     ]
    },
    {
     "data": {
      "text/plain": [
       "<sklearn.metrics._plot.confusion_matrix.ConfusionMatrixDisplay at 0x7f9752e7b110>"
      ]
     },
     "execution_count": 16,
     "metadata": {},
     "output_type": "execute_result"
    },
    {
     "data": {
      "image/png": "[encoded data removed]",
      "text/plain": [
       "<Figure size 432x288 with 2 Axes>"
      ]
     },
     "metadata": {
      "needs_background": "light"
     },
     "output_type": "display_data"
    }
   ],
   "source": [
    "#Dummy Classifier with strategy=\"most_frequent\"\n",
    "dummy_frq = DummyClassifier(strategy=\"most_frequent\", random_state=1)\n",
    "dummy_frq.fit(tr_vector_onehot, train_labels)\n",
    "dummy_frq_predicted_tr = dummy_frq.predict(tr_vector_onehot)\n",
    "evaluation_summary(\"Dummy Classifier['most_frequent']: Training set\", train_labels, dummy_frq_predicted_tr,  uniquelabels_tr)\n",
    "ConfusionMatrixDisplay.from_predictions(train_labels,dummy_frq_predicted_tr,xticks_rotation='vertical') "
   ]
  },
  {
   "cell_type": "markdown",
   "metadata": {
    "id": "l-G1uSWnR3fr"
   },
   "source": [
    "*   Test set - predict the model on testset"
   ]
  },
  {
   "cell_type": "code",
   "execution_count": 17,
   "metadata": {
    "colab": {
     "base_uri": "https://localhost:8080/",
     "height": 660
    },
    "id": "mKAtW-SqJBKs",
    "outputId": "4aff249f-c55c-4983-f6a2-e44731a368e0"
   },
   "outputs": [
    {
     "name": "stdout",
     "output_type": "stream",
     "text": [
      "Evaluation for: Dummy Classifier['most_frequent: Test set']\n",
      "                precision    recall  f1-score   support\n",
      "\n",
      "        Coffee      0.000     0.000     0.000        56\n",
      "NintendoSwitch      0.000     0.000     0.000        38\n",
      "          xbox      0.000     0.000     0.000        52\n",
      "           tea      0.000     0.000     0.000        48\n",
      "       antiMLM      0.000     0.000     0.000        29\n",
      "      pcgaming      0.000     0.000     0.000        44\n",
      "           PS4      0.000     0.000     0.000        47\n",
      "   HydroHomies      0.105     1.000     0.190        42\n",
      "          Soda      0.000     0.000     0.000        44\n",
      "\n",
      "      accuracy                          0.105       400\n",
      "     macro avg      0.012     0.111     0.021       400\n",
      "  weighted avg      0.011     0.105     0.020       400\n",
      "\n"
     ]
    },
    {
     "data": {
      "text/plain": [
       "<sklearn.metrics._plot.confusion_matrix.ConfusionMatrixDisplay at 0x7f972b8b4050>"
      ]
     },
     "execution_count": 17,
     "metadata": {},
     "output_type": "execute_result"
    },
    {
     "data": {
      "image/png": "[encoded data removed]",
      "text/plain": [
       "<Figure size 432x288 with 2 Axes>"
      ]
     },
     "metadata": {
      "needs_background": "light"
     },
     "output_type": "display_data"
    }
   ],
   "source": [
    "#Dummy Classifier with strategy=\"most_frequent\" - test set\n",
    "dummy_frq_predicted_test = dummy_frq.predict(test_vector_onehot)\n",
    "evaluation_summary(\"Dummy Classifier['most_frequent: Test set']\", test_labels, dummy_frq_predicted_test,  uniquelabels_test)\n",
    "ConfusionMatrixDisplay.from_predictions(test_labels,dummy_frq_predicted_test,xticks_rotation='vertical') "
   ]
  },
  {
   "cell_type": "markdown",
   "metadata": {
    "id": "23bvVz_hxge4"
   },
   "source": [
    "**Observation** : Trained dummy classifier on the training set and achieved a 12.2% accuracy with F1 score of 0.024(macro) and 0.026(weighted). Got 146 true positive values that correspond to reddit posts with label/subreddits of 'tea' and our model correctly identified them because we trained a dummy classifier with the \"most frequent\" parameter, which predicts the most common class label in the training dataset (ie., posts with subreddit 'tea'). Predict it on the test set after training, which resulted 10.5% of accuracy with F1 score of 0.021(macro) and 0.020(weighted). Model correctly identified 42 true positive values that correspond to reddit posts with label/subreddits of 'tea'."
   ]
  },
  {
   "cell_type": "markdown",
   "metadata": {
    "id": "UKrw_mdyQADy"
   },
   "source": [
    "2.   **Dummy Classifier with strategy=\"stratified\"**\n",
    " : This is another type of dummy classifier which predicts on the basis of the label distribution of the training dataset. For example, if the reddit post with label ‘soda occurs about 8.5% of the time in the training set, then the dummy classifier will output ‘soda’ class with 8.5% probability."
   ]
  },
  {
   "cell_type": "markdown",
   "metadata": {
    "id": "2mai2cIjTl8b"
   },
   "source": [
    "*   Training Set : Trained dummy classifier with stratified parameter on the training set\n",
    "\n"
   ]
  },
  {
   "cell_type": "code",
   "execution_count": 18,
   "metadata": {
    "colab": {
     "base_uri": "https://localhost:8080/",
     "height": 660
    },
    "id": "gKf60jyPgLqr",
    "outputId": "36e9801a-75ba-4a28-efc0-38ecd37a4abd"
   },
   "outputs": [
    {
     "name": "stdout",
     "output_type": "stream",
     "text": [
      "Evaluation for: Dummy Classifier['stratified']: Training set\n",
      "                precision    recall  f1-score   support\n",
      "\n",
      "           PS4      0.109     0.103     0.106       136\n",
      "      pcgaming      0.085     0.090     0.087       134\n",
      "NintendoSwitch      0.117     0.110     0.113       145\n",
      "       antiMLM      0.105     0.113     0.109       142\n",
      "   HydroHomies      0.059     0.059     0.059       102\n",
      "        Coffee      0.110     0.109     0.110       128\n",
      "          xbox      0.137     0.133     0.135       135\n",
      "          Soda      0.115     0.096     0.104       146\n",
      "           tea      0.106     0.129     0.116       132\n",
      "\n",
      "      accuracy                          0.106      1200\n",
      "     macro avg      0.105     0.105     0.105      1200\n",
      "  weighted avg      0.106     0.106     0.106      1200\n",
      "\n"
     ]
    },
    {
     "data": {
      "text/plain": [
       "<sklearn.metrics._plot.confusion_matrix.ConfusionMatrixDisplay at 0x7f972b874150>"
      ]
     },
     "execution_count": 18,
     "metadata": {},
     "output_type": "execute_result"
    },
    {
     "data": {
      "image/png": "[encoded data removed]",
      "text/plain": [
       "<Figure size 432x288 with 2 Axes>"
      ]
     },
     "metadata": {
      "needs_background": "light"
     },
     "output_type": "display_data"
    }
   ],
   "source": [
    "#Dummy Classifier with strategy=\"stratified\"\n",
    "dummy_str = DummyClassifier(strategy=\"stratified\", random_state=1)\n",
    "dummy_str.fit(tr_vector_onehot, train_labels)\n",
    "dummy_str_predicted_tr = dummy_str.predict(tr_vector_onehot)\n",
    "evaluation_summary(\"Dummy Classifier['stratified']: Training set\", train_labels, dummy_str_predicted_tr,  uniquelabels_tr)\n",
    "ConfusionMatrixDisplay.from_predictions(train_labels,dummy_str_predicted_tr,xticks_rotation='vertical') "
   ]
  },
  {
   "cell_type": "markdown",
   "metadata": {
    "id": "_JFQv7R7TpVT"
   },
   "source": [
    "*   Test Set : predict the model on test set\n",
    "\n"
   ]
  },
  {
   "cell_type": "code",
   "execution_count": 19,
   "metadata": {
    "colab": {
     "base_uri": "https://localhost:8080/",
     "height": 664
    },
    "id": "jtGmuJgFJai5",
    "outputId": "b3a9345d-f38f-4a58-9695-615d285d6ee7"
   },
   "outputs": [
    {
     "name": "stdout",
     "output_type": "stream",
     "text": [
      "Evaluation for: Dummy Classifier['stratified']: Test set\n",
      "                precision    recall  f1-score   support\n",
      "\n",
      "        Coffee      0.176     0.161     0.168        56\n",
      "NintendoSwitch      0.115     0.158     0.133        38\n",
      "          xbox      0.096     0.096     0.096        52\n",
      "           tea      0.089     0.083     0.086        48\n",
      "       antiMLM      0.086     0.103     0.094        29\n",
      "      pcgaming      0.079     0.068     0.073        44\n",
      "           PS4      0.109     0.106     0.108        47\n",
      "   HydroHomies      0.100     0.095     0.098        42\n",
      "          Soda      0.244     0.227     0.235        44\n",
      "\n",
      "      accuracy                          0.122       400\n",
      "     macro avg      0.122     0.122     0.121       400\n",
      "  weighted avg      0.124     0.122     0.123       400\n",
      "\n"
     ]
    },
    {
     "data": {
      "text/plain": [
       "<sklearn.metrics._plot.confusion_matrix.ConfusionMatrixDisplay at 0x7f972b738890>"
      ]
     },
     "execution_count": 19,
     "metadata": {},
     "output_type": "execute_result"
    },
    {
     "data": {
      "image/png": "[encoded data removed]",
      "text/plain": [
       "<Figure size 432x288 with 2 Axes>"
      ]
     },
     "metadata": {
      "needs_background": "light"
     },
     "output_type": "display_data"
    }
   ],
   "source": [
    "#Dummy Classifier with strategy=\"stratified\" - test set\n",
    "dummy_str_predicted_test = dummy_str.predict(test_vector_onehot)\n",
    "evaluation_summary(\"Dummy Classifier['stratified']: Test set\", test_labels, dummy_str_predicted_test,  uniquelabels_test)\n",
    "ConfusionMatrixDisplay.from_predictions(test_labels,dummy_str_predicted_test,xticks_rotation='vertical')"
   ]
  },
  {
   "cell_type": "markdown",
   "metadata": {
    "id": "VL10-qLUQJJf"
   },
   "source": [
    "\n",
    "\n",
    "3.   **LogisticRegression with One-hot vectorization**\n",
    ": used to predict a dependent categorical target variable using sigmoid function."
   ]
  },
  {
   "cell_type": "markdown",
   "metadata": {
    "id": "mSZBboANUcTb"
   },
   "source": [
    "\n",
    "\n",
    "*   Training Set\n"
   ]
  },
  {
   "cell_type": "code",
   "execution_count": 20,
   "metadata": {
    "colab": {
     "base_uri": "https://localhost:8080/",
     "height": 660
    },
    "id": "-wiq8Jbxjiim",
    "outputId": "0c839878-680e-4a76-b0ea-4b59ef39c056"
   },
   "outputs": [
    {
     "name": "stdout",
     "output_type": "stream",
     "text": [
      "Evaluation for: LR onehot vectorization: Training set\n",
      "                precision    recall  f1-score   support\n",
      "\n",
      "           PS4      1.000     1.000     1.000       136\n",
      "      pcgaming      1.000     1.000     1.000       134\n",
      "NintendoSwitch      1.000     1.000     1.000       145\n",
      "       antiMLM      1.000     1.000     1.000       142\n",
      "   HydroHomies      1.000     1.000     1.000       102\n",
      "        Coffee      1.000     1.000     1.000       128\n",
      "          xbox      1.000     1.000     1.000       135\n",
      "          Soda      1.000     1.000     1.000       146\n",
      "           tea      1.000     1.000     1.000       132\n",
      "\n",
      "      accuracy                          1.000      1200\n",
      "     macro avg      1.000     1.000     1.000      1200\n",
      "  weighted avg      1.000     1.000     1.000      1200\n",
      "\n"
     ]
    },
    {
     "data": {
      "text/plain": [
       "<sklearn.metrics._plot.confusion_matrix.ConfusionMatrixDisplay at 0x7f972b929f50>"
      ]
     },
     "execution_count": 20,
     "metadata": {},
     "output_type": "execute_result"
    },
    {
     "data": {
      "image/png": "[encoded data removed]",
      "text/plain": [
       "<Figure size 432x288 with 2 Axes>"
      ]
     },
     "metadata": {
      "needs_background": "light"
     },
     "output_type": "display_data"
    }
   ],
   "source": [
    "#LogisticRegression with One-hot vectorization\n",
    "lr_clf = LogisticRegression(random_state=1)\n",
    "lr_model = lr_clf.fit(tr_vector_onehot, train_labels)\n",
    "lr_onehot_predicted_tr = lr_model.predict(tr_vector_onehot)\n",
    "evaluation_summary(\"LR onehot vectorization: Training set\", train_labels, lr_onehot_predicted_tr,  uniquelabels_tr)\n",
    "ConfusionMatrixDisplay.from_predictions(train_labels, lr_onehot_predicted_tr,xticks_rotation='vertical')"
   ]
  },
  {
   "cell_type": "markdown",
   "metadata": {
    "id": "3tVQW_phUuSh"
   },
   "source": [
    "\n",
    "\n",
    "*   Test Set\n",
    "\n"
   ]
  },
  {
   "cell_type": "code",
   "execution_count": 21,
   "metadata": {
    "colab": {
     "base_uri": "https://localhost:8080/",
     "height": 660
    },
    "id": "W4yJOqa6JriM",
    "outputId": "f32450d9-e827-4fbd-9353-6891d2504353"
   },
   "outputs": [
    {
     "name": "stdout",
     "output_type": "stream",
     "text": [
      "Evaluation for: LR onehot vectorization: Test set\n",
      "                precision    recall  f1-score   support\n",
      "\n",
      "        Coffee      0.860     0.768     0.811        56\n",
      "NintendoSwitch      0.762     0.842     0.800        38\n",
      "          xbox      0.674     0.596     0.633        52\n",
      "           tea      0.431     0.583     0.496        48\n",
      "       antiMLM      0.611     0.759     0.677        29\n",
      "      pcgaming      0.806     0.659     0.725        44\n",
      "           PS4      0.450     0.383     0.414        47\n",
      "   HydroHomies      0.795     0.833     0.814        42\n",
      "          Soda      0.585     0.545     0.565        44\n",
      "\n",
      "      accuracy                          0.655       400\n",
      "     macro avg      0.664     0.663     0.659       400\n",
      "  weighted avg      0.666     0.655     0.656       400\n",
      "\n"
     ]
    },
    {
     "data": {
      "text/plain": [
       "<sklearn.metrics._plot.confusion_matrix.ConfusionMatrixDisplay at 0x7f972b8db850>"
      ]
     },
     "execution_count": 21,
     "metadata": {},
     "output_type": "execute_result"
    },
    {
     "data": {
      "image/png": "[encoded data removed]",
      "text/plain": [
       "<Figure size 432x288 with 2 Axes>"
      ]
     },
     "metadata": {
      "needs_background": "light"
     },
     "output_type": "display_data"
    }
   ],
   "source": [
    "#LogisticRegression with One-hot vectorization - test set\n",
    "lr_onehot_predicted_test = lr_model.predict(test_vector_onehot)\n",
    "evaluation_summary(\"LR onehot vectorization: Test set\", test_labels, lr_onehot_predicted_test,  uniquelabels_test)\n",
    "ConfusionMatrixDisplay.from_predictions(test_labels,lr_onehot_predicted_test,xticks_rotation='vertical')"
   ]
  },
  {
   "cell_type": "markdown",
   "metadata": {
    "id": "iRzDZh8AQOmW"
   },
   "source": [
    "\n",
    "\n",
    "4.   **LogisticRegression with TF-IDF vectorization (default settings)**\n",
    "\n",
    "\n"
   ]
  },
  {
   "cell_type": "markdown",
   "metadata": {
    "id": "3dniinGEVX-T"
   },
   "source": [
    "\n",
    "\n",
    "*   Training Set\n",
    "\n"
   ]
  },
  {
   "cell_type": "code",
   "execution_count": 22,
   "metadata": {
    "colab": {
     "base_uri": "https://localhost:8080/",
     "height": 660
    },
    "id": "C6DxuP2u6071",
    "outputId": "6a9cc03e-a1c5-491c-d1c5-ba85a11eaf85"
   },
   "outputs": [
    {
     "name": "stdout",
     "output_type": "stream",
     "text": [
      "Evaluation for: LogisticRegression TF-IDF Vectorization: Training set\n",
      "                precision    recall  f1-score   support\n",
      "\n",
      "           PS4      0.993     1.000     0.996       136\n",
      "      pcgaming      1.000     0.993     0.996       134\n",
      "NintendoSwitch      0.986     1.000     0.993       145\n",
      "       antiMLM      0.986     0.993     0.989       142\n",
      "   HydroHomies      1.000     1.000     1.000       102\n",
      "        Coffee      0.977     1.000     0.988       128\n",
      "          xbox      1.000     0.985     0.993       135\n",
      "          Soda      1.000     1.000     1.000       146\n",
      "           tea      1.000     0.970     0.985       132\n",
      "\n",
      "      accuracy                          0.993      1200\n",
      "     macro avg      0.994     0.993     0.993      1200\n",
      "  weighted avg      0.993     0.993     0.993      1200\n",
      "\n"
     ]
    },
    {
     "data": {
      "text/plain": [
       "<sklearn.metrics._plot.confusion_matrix.ConfusionMatrixDisplay at 0x7f972c64fcd0>"
      ]
     },
     "execution_count": 22,
     "metadata": {},
     "output_type": "execute_result"
    },
    {
     "data": {
      "image/png": "[encoded data removed]",
      "text/plain": [
       "<Figure size 432x288 with 2 Axes>"
      ]
     },
     "metadata": {
      "needs_background": "light"
     },
     "output_type": "display_data"
    }
   ],
   "source": [
    "#LogisticRegression with TF-IDF vectorization (default settings)\n",
    "lr_tfidf_clf = LogisticRegression(random_state=1)\n",
    "lr_tfidf_model = lr_tfidf_clf.fit(tr_vector_tfidf, train_labels)\n",
    "lr_tfidf_predicted_tr = lr_tfidf_model.predict(tr_vector_tfidf)\n",
    "evaluation_summary(\"LogisticRegression TF-IDF Vectorization: Training set\", train_labels, lr_tfidf_predicted_tr,  uniquelabels_tr)\n",
    "ConfusionMatrixDisplay.from_predictions(train_labels,lr_tfidf_predicted_tr,xticks_rotation='vertical')"
   ]
  },
  {
   "cell_type": "markdown",
   "metadata": {
    "id": "TfaE1LTNVl0v"
   },
   "source": [
    "\n",
    "\n",
    "*   Test Set\n",
    "\n"
   ]
  },
  {
   "cell_type": "code",
   "execution_count": 23,
   "metadata": {
    "colab": {
     "base_uri": "https://localhost:8080/",
     "height": 660
    },
    "id": "OkCZu4DyKApX",
    "outputId": "8dd418fe-2131-4f74-82c0-005ac6b6932b"
   },
   "outputs": [
    {
     "name": "stdout",
     "output_type": "stream",
     "text": [
      "Evaluation for: LogisticRegression TF-IDF Vectorization: Test set\n",
      "                precision    recall  f1-score   support\n",
      "\n",
      "        Coffee      0.911     0.911     0.911        56\n",
      "NintendoSwitch      0.909     0.789     0.845        38\n",
      "          xbox      0.695     0.788     0.739        52\n",
      "           tea      0.559     0.688     0.617        48\n",
      "       antiMLM      0.788     0.897     0.839        29\n",
      "      pcgaming      0.837     0.818     0.828        44\n",
      "           PS4      0.675     0.574     0.621        47\n",
      "   HydroHomies      0.902     0.881     0.892        42\n",
      "          Soda      0.806     0.659     0.725        44\n",
      "\n",
      "      accuracy                          0.775       400\n",
      "     macro avg      0.787     0.778     0.779       400\n",
      "  weighted avg      0.783     0.775     0.776       400\n",
      "\n"
     ]
    },
    {
     "data": {
      "text/plain": [
       "<sklearn.metrics._plot.confusion_matrix.ConfusionMatrixDisplay at 0x7f972aeac2d0>"
      ]
     },
     "execution_count": 23,
     "metadata": {},
     "output_type": "execute_result"
    },
    {
     "data": {
      "image/png": "[encoded data removed]",
      "text/plain": [
       "<Figure size 432x288 with 2 Axes>"
      ]
     },
     "metadata": {
      "needs_background": "light"
     },
     "output_type": "display_data"
    }
   ],
   "source": [
    "#LogisticRegression with TF-IDF vectorization (default settings) - test set\n",
    "lr_tfidf_predicted_test = lr_tfidf_model.predict(test_vector_tfidf)\n",
    "evaluation_summary(\"LogisticRegression TF-IDF Vectorization: Test set\", test_labels, lr_tfidf_predicted_test,  uniquelabels_test)\n",
    "ConfusionMatrixDisplay.from_predictions(test_labels,lr_tfidf_predicted_test,xticks_rotation='vertical')"
   ]
  },
  {
   "cell_type": "markdown",
   "metadata": {
    "id": "MpBGL-o1QUn-"
   },
   "source": [
    "\n",
    "\n",
    "6.   **SVC Classifier with One-hot vectorization (SVM with RBF kernel, default settings))**\n",
    "\n",
    "Support Vectors Classifier maximize the distance between sample points and the hyperplane and find the best hyperplane to separate the different classes\n"
   ]
  },
  {
   "cell_type": "markdown",
   "metadata": {
    "id": "jM9ImcavWVds"
   },
   "source": [
    "\n",
    "\n",
    "*   Training Set\n",
    "\n"
   ]
  },
  {
   "cell_type": "code",
   "execution_count": 24,
   "metadata": {
    "colab": {
     "base_uri": "https://localhost:8080/",
     "height": 660
    },
    "id": "U0ElcaLNT40X",
    "outputId": "86d6d810-7fa5-403b-8e4a-953967b759f7"
   },
   "outputs": [
    {
     "name": "stdout",
     "output_type": "stream",
     "text": [
      "Evaluation for: SVC Classifier with One-hot vectorization: Training set \n",
      "                precision    recall  f1-score   support\n",
      "\n",
      "           PS4      0.966     0.831     0.893       136\n",
      "      pcgaming      0.589     0.985     0.737       134\n",
      "NintendoSwitch      0.991     0.793     0.881       145\n",
      "       antiMLM      0.575     0.923     0.708       142\n",
      "   HydroHomies      0.872     0.735     0.798       102\n",
      "        Coffee      0.982     0.852     0.912       128\n",
      "          xbox      0.980     0.726     0.834       135\n",
      "          Soda      1.000     0.815     0.898       146\n",
      "           tea      0.990     0.742     0.848       132\n",
      "\n",
      "      accuracy                          0.825      1200\n",
      "     macro avg      0.883     0.822     0.835      1200\n",
      "  weighted avg      0.883     0.825     0.835      1200\n",
      "\n"
     ]
    },
    {
     "data": {
      "text/plain": [
       "<sklearn.metrics._plot.confusion_matrix.ConfusionMatrixDisplay at 0x7f972b1e6850>"
      ]
     },
     "execution_count": 24,
     "metadata": {},
     "output_type": "execute_result"
    },
    {
     "data": {
      "image/png": "[encoded data removed]",
      "text/plain": [
       "<Figure size 432x288 with 2 Axes>"
      ]
     },
     "metadata": {
      "needs_background": "light"
     },
     "output_type": "display_data"
    }
   ],
   "source": [
    "#SVC Classifier with One-hot vectorization (SVM with RBF kernel, default settings)) - train set\n",
    "svc_clf = svm.SVC(kernel='rbf')\n",
    "svc_model = svc_clf.fit(tr_vector_onehot, train_labels)\n",
    "svc_predicted_tr = svc_model.predict(tr_vector_onehot)\n",
    "evaluation_summary(\"SVC Classifier with One-hot vectorization: Training set \", train_labels, svc_predicted_tr,  uniquelabels_tr)\n",
    "ConfusionMatrixDisplay.from_predictions(train_labels,svc_predicted_tr,xticks_rotation='vertical')"
   ]
  },
  {
   "cell_type": "markdown",
   "metadata": {
    "id": "5x5m9PfcWg9Q"
   },
   "source": [
    "\n",
    "\n",
    "*   Test Set\n",
    "\n"
   ]
  },
  {
   "cell_type": "code",
   "execution_count": 25,
   "metadata": {
    "colab": {
     "base_uri": "https://localhost:8080/",
     "height": 660
    },
    "id": "ooHyDZ5Ewm3U",
    "outputId": "e25ef6c3-6f17-474c-ff86-ffd6d8d6b7e9"
   },
   "outputs": [
    {
     "name": "stdout",
     "output_type": "stream",
     "text": [
      "Evaluation for: SVC Classifier with One-hot vectorization: Test set \n",
      "                precision    recall  f1-score   support\n",
      "\n",
      "        Coffee      0.949     0.661     0.779        56\n",
      "NintendoSwitch      0.456     0.816     0.585        38\n",
      "          xbox      0.589     0.635     0.611        52\n",
      "           tea      0.302     0.604     0.403        48\n",
      "       antiMLM      0.667     0.483     0.560        29\n",
      "      pcgaming      0.545     0.545     0.545        44\n",
      "           PS4      0.391     0.191     0.257        47\n",
      "   HydroHomies      0.967     0.690     0.806        42\n",
      "          Soda      0.739     0.386     0.507        44\n",
      "\n",
      "      accuracy                          0.557       400\n",
      "     macro avg      0.623     0.557     0.561       400\n",
      "  weighted avg      0.626     0.557     0.564       400\n",
      "\n"
     ]
    },
    {
     "data": {
      "text/plain": [
       "<sklearn.metrics._plot.confusion_matrix.ConfusionMatrixDisplay at 0x7f972b162050>"
      ]
     },
     "execution_count": 25,
     "metadata": {},
     "output_type": "execute_result"
    },
    {
     "data": {
      "image/png": "[encoded data removed]",
      "text/plain": [
       "<Figure size 432x288 with 2 Axes>"
      ]
     },
     "metadata": {
      "needs_background": "light"
     },
     "output_type": "display_data"
    }
   ],
   "source": [
    "#SVC Classifier with One-hot vectorization (SVM with RBF kernel, default settings)) - test set\n",
    "svc_predicted_test = svc_model.predict(test_vector_onehot)\n",
    "evaluation_summary(\"SVC Classifier with One-hot vectorization: Test set \", test_labels, svc_predicted_test,  uniquelabels_test) \n",
    "ConfusionMatrixDisplay.from_predictions(test_labels,svc_predicted_test,xticks_rotation='vertical')"
   ]
  },
  {
   "cell_type": "markdown",
   "metadata": {
    "id": "TziJs-n4XPUX"
   },
   "source": [
    "\n",
    "\n",
    "*   **Comparison** : Discuss the classifier performance in comparison to the others and preprocessing techniques\n",
    "\n"
   ]
  },
  {
   "cell_type": "code",
   "execution_count": 26,
   "metadata": {
    "colab": {
     "base_uri": "https://localhost:8080/",
     "height": 332
    },
    "id": "HLStKLZlGQof",
    "outputId": "e05618c0-4aed-40f3-fb30-aa9b97285043"
   },
   "outputs": [
    {
     "data": {
      "text/html": [
       "\n",
       "  <div id=\"df-6a0f075e-d944-483d-ac51-a8c27961ac7e\">\n",
       "    <div class=\"colab-df-container\">\n",
       "      <div>\n",
       "<style scoped>\n",
       "    .dataframe tbody tr th:only-of-type {\n",
       "        vertical-align: middle;\n",
       "    }\n",
       "\n",
       "    .dataframe tbody tr th {\n",
       "        vertical-align: top;\n",
       "    }\n",
       "\n",
       "    .dataframe thead th {\n",
       "        text-align: right;\n",
       "    }\n",
       "</style>\n",
       "<table border=\"1\" class=\"dataframe\">\n",
       "  <thead>\n",
       "    <tr style=\"text-align: right;\">\n",
       "      <th></th>\n",
       "      <th>Dummy:strategy=most_frequent</th>\n",
       "      <th>Dummy:strategy=stratified</th>\n",
       "      <th>LR:One-hot vectorization</th>\n",
       "      <th>LR:TF-IDF vectorization</th>\n",
       "      <th>SVC:One-hot vectorization</th>\n",
       "      <th>Best</th>\n",
       "    </tr>\n",
       "    <tr>\n",
       "      <th>Performance Metrics</th>\n",
       "      <th></th>\n",
       "      <th></th>\n",
       "      <th></th>\n",
       "      <th></th>\n",
       "      <th></th>\n",
       "      <th></th>\n",
       "    </tr>\n",
       "  </thead>\n",
       "  <tbody>\n",
       "    <tr>\n",
       "      <th>Precision : TrainingSet</th>\n",
       "      <td>0.015</td>\n",
       "      <td>0.106</td>\n",
       "      <td>1.000</td>\n",
       "      <td>0.993</td>\n",
       "      <td>0.883</td>\n",
       "      <td>LogisticRegression with One-hot vectorization</td>\n",
       "    </tr>\n",
       "    <tr>\n",
       "      <th>Precision : TestSet</th>\n",
       "      <td>0.011</td>\n",
       "      <td>0.124</td>\n",
       "      <td>0.666</td>\n",
       "      <td>0.783</td>\n",
       "      <td>0.626</td>\n",
       "      <td>LogisticRegression with TF-IDF vectorization</td>\n",
       "    </tr>\n",
       "    <tr>\n",
       "      <th>Recall : TrainingSet</th>\n",
       "      <td>0.122</td>\n",
       "      <td>0.106</td>\n",
       "      <td>1.000</td>\n",
       "      <td>0.993</td>\n",
       "      <td>0.825</td>\n",
       "      <td>LogisticRegression with One-hot vectorization</td>\n",
       "    </tr>\n",
       "    <tr>\n",
       "      <th>Recall : TestSet</th>\n",
       "      <td>0.105</td>\n",
       "      <td>0.122</td>\n",
       "      <td>0.655</td>\n",
       "      <td>0.775</td>\n",
       "      <td>0.557</td>\n",
       "      <td>LogisticRegression with TF-IDF vectorization</td>\n",
       "    </tr>\n",
       "    <tr>\n",
       "      <th>F1Score : TrainingSet</th>\n",
       "      <td>0.026</td>\n",
       "      <td>0.106</td>\n",
       "      <td>1.000</td>\n",
       "      <td>0.993</td>\n",
       "      <td>0.835</td>\n",
       "      <td>LogisticRegression with One-hot vectorization</td>\n",
       "    </tr>\n",
       "    <tr>\n",
       "      <th>F1Score : TestSet</th>\n",
       "      <td>0.020</td>\n",
       "      <td>0.123</td>\n",
       "      <td>0.656</td>\n",
       "      <td>0.776</td>\n",
       "      <td>0.564</td>\n",
       "      <td>LogisticRegression with TF-IDF vectorization</td>\n",
       "    </tr>\n",
       "    <tr>\n",
       "      <th>Accuracy : TrainingSet</th>\n",
       "      <td>0.122</td>\n",
       "      <td>0.106</td>\n",
       "      <td>1.000</td>\n",
       "      <td>0.993</td>\n",
       "      <td>0.825</td>\n",
       "      <td>LogisticRegression with One-hot vectorization</td>\n",
       "    </tr>\n",
       "    <tr>\n",
       "      <th>Accuracy : TestSet</th>\n",
       "      <td>0.105</td>\n",
       "      <td>0.122</td>\n",
       "      <td>0.655</td>\n",
       "      <td>0.775</td>\n",
       "      <td>0.557</td>\n",
       "      <td>LogisticRegression with TF-IDF vectorization</td>\n",
       "    </tr>\n",
       "  </tbody>\n",
       "</table>\n",
       "</div>\n",
       "      <button class=\"colab-df-convert\" onclick=\"convertToInteractive('df-6a0f075e-d944-483d-ac51-a8c27961ac7e')\"\n",
       "              title=\"Convert this dataframe to an interactive table.\"\n",
       "              style=\"display:none;\">\n",
       "        \n",
       "  <svg xmlns=\"http://www.w3.org/2000/svg\" height=\"24px\"viewBox=\"0 0 24 24\"\n",
       "       width=\"24px\">\n",
       "    <path d=\"M0 0h24v24H0V0z\" fill=\"none\"/>\n",
       "    <path d=\"M18.56 5.44l.94 2.06.94-2.06 2.06-.94-2.06-.94-.94-2.06-.94 2.06-2.06.94zm-11 1L8.5 8.5l.94-2.06 2.06-.94-2.06-.94L8.5 2.5l-.94 2.06-2.06.94zm10 10l.94 2.06.94-2.06 2.06-.94-2.06-.94-.94-2.06-.94 2.06-2.06.94z\"/><path d=\"M17.41 7.96l-1.37-1.37c-.4-.4-.92-.59-1.43-.59-.52 0-1.04.2-1.43.59L10.3 9.45l-7.72 7.72c-.78.78-.78 2.05 0 2.83L4 21.41c.39.39.9.59 1.41.59.51 0 1.02-.2 1.41-.59l7.78-7.78 2.81-2.81c.8-.78.8-2.07 0-2.86zM5.41 20L4 18.59l7.72-7.72 1.47 1.35L5.41 20z\"/>\n",
       "  </svg>\n",
       "      </button>\n",
       "      \n",
       "  <style>\n",
       "    .colab-df-container {\n",
       "      display:flex;\n",
       "      flex-wrap:wrap;\n",
       "      gap: 12px;\n",
       "    }\n",
       "\n",
       "    .colab-df-convert {\n",
       "      background-color: #E8F0FE;\n",
       "      border: none;\n",
       "      border-radius: 50%;\n",
       "      cursor: pointer;\n",
       "      display: none;\n",
       "      fill: #1967D2;\n",
       "      height: 32px;\n",
       "      padding: 0 0 0 0;\n",
       "      width: 32px;\n",
       "    }\n",
       "\n",
       "    .colab-df-convert:hover {\n",
       "      background-color: #E2EBFA;\n",
       "      box-shadow: 0px 1px 2px rgba(60, 64, 67, 0.3), 0px 1px 3px 1px rgba(60, 64, 67, 0.15);\n",
       "      fill: #174EA6;\n",
       "    }\n",
       "\n",
       "    [theme=dark] .colab-df-convert {\n",
       "      background-color: #3B4455;\n",
       "      fill: #D2E3FC;\n",
       "    }\n",
       "\n",
       "    [theme=dark] .colab-df-convert:hover {\n",
       "      background-color: #434B5C;\n",
       "      box-shadow: 0px 1px 3px 1px rgba(0, 0, 0, 0.15);\n",
       "      filter: drop-shadow(0px 1px 2px rgba(0, 0, 0, 0.3));\n",
       "      fill: #FFFFFF;\n",
       "    }\n",
       "  </style>\n",
       "\n",
       "      <script>\n",
       "        const buttonEl =\n",
       "          document.querySelector('#df-6a0f075e-d944-483d-ac51-a8c27961ac7e button.colab-df-convert');\n",
       "        buttonEl.style.display =\n",
       "          google.colab.kernel.accessAllowed ? 'block' : 'none';\n",
       "\n",
       "        async function convertToInteractive(key) {\n",
       "          const element = document.querySelector('#df-6a0f075e-d944-483d-ac51-a8c27961ac7e');\n",
       "          const dataTable =\n",
       "            await google.colab.kernel.invokeFunction('convertToInteractive',\n",
       "                                                     [key], {});\n",
       "          if (!dataTable) return;\n",
       "\n",
       "          const docLinkHtml = 'Like what you see? Visit the ' +\n",
       "            '<a target=\"_blank\" href=https://colab.research.google.com/notebooks/data_table.ipynb>data table notebook</a>'\n",
       "            + ' to learn more about interactive tables.';\n",
       "          element.innerHTML = '';\n",
       "          dataTable['output_type'] = 'display_data';\n",
       "          await google.colab.output.renderOutput(dataTable, element);\n",
       "          const docLink = document.createElement('div');\n",
       "          docLink.innerHTML = docLinkHtml;\n",
       "          element.appendChild(docLink);\n",
       "        }\n",
       "      </script>\n",
       "    </div>\n",
       "  </div>\n",
       "  "
      ],
      "text/plain": [
       "                         Dummy:strategy=most_frequent  \\\n",
       "Performance Metrics                                     \n",
       "Precision : TrainingSet                         0.015   \n",
       "Precision : TestSet                             0.011   \n",
       "Recall : TrainingSet                            0.122   \n",
       "Recall : TestSet                                0.105   \n",
       "F1Score : TrainingSet                           0.026   \n",
       "F1Score : TestSet                               0.020   \n",
       "Accuracy : TrainingSet                          0.122   \n",
       "Accuracy : TestSet                              0.105   \n",
       "\n",
       "                         Dummy:strategy=stratified  LR:One-hot vectorization  \\\n",
       "Performance Metrics                                                            \n",
       "Precision : TrainingSet                      0.106                     1.000   \n",
       "Precision : TestSet                          0.124                     0.666   \n",
       "Recall : TrainingSet                         0.106                     1.000   \n",
       "Recall : TestSet                             0.122                     0.655   \n",
       "F1Score : TrainingSet                        0.106                     1.000   \n",
       "F1Score : TestSet                            0.123                     0.656   \n",
       "Accuracy : TrainingSet                       0.106                     1.000   \n",
       "Accuracy : TestSet                           0.122                     0.655   \n",
       "\n",
       "                         LR:TF-IDF vectorization  SVC:One-hot vectorization  \\\n",
       "Performance Metrics                                                           \n",
       "Precision : TrainingSet                    0.993                      0.883   \n",
       "Precision : TestSet                        0.783                      0.626   \n",
       "Recall : TrainingSet                       0.993                      0.825   \n",
       "Recall : TestSet                           0.775                      0.557   \n",
       "F1Score : TrainingSet                      0.993                      0.835   \n",
       "F1Score : TestSet                          0.776                      0.564   \n",
       "Accuracy : TrainingSet                     0.993                      0.825   \n",
       "Accuracy : TestSet                         0.775                      0.557   \n",
       "\n",
       "                                                                  Best  \n",
       "Performance Metrics                                                     \n",
       "Precision : TrainingSet  LogisticRegression with One-hot vectorization  \n",
       "Precision : TestSet       LogisticRegression with TF-IDF vectorization  \n",
       "Recall : TrainingSet     LogisticRegression with One-hot vectorization  \n",
       "Recall : TestSet          LogisticRegression with TF-IDF vectorization  \n",
       "F1Score : TrainingSet    LogisticRegression with One-hot vectorization  \n",
       "F1Score : TestSet         LogisticRegression with TF-IDF vectorization  \n",
       "Accuracy : TrainingSet   LogisticRegression with One-hot vectorization  \n",
       "Accuracy : TestSet        LogisticRegression with TF-IDF vectorization  "
      ]
     },
     "execution_count": 26,
     "metadata": {},
     "output_type": "execute_result"
    }
   ],
   "source": [
    "predicted_label_trainset = [dummy_frq_predicted_tr,dummy_str_predicted_tr,lr_onehot_predicted_tr,lr_tfidf_predicted_tr,svc_predicted_tr]\n",
    "predicted_label_testset = [dummy_frq_predicted_test,dummy_str_predicted_test,lr_onehot_predicted_test,lr_tfidf_predicted_test,svc_predicted_test]\n",
    "classifier_set =['Dummy Classifier with strategy=\"most_frequent\"','Dummy Classifier with strategy=\"stratified\"','LogisticRegression with One-hot vectorization','LogisticRegression with TF-IDF vectorization','SVC Classifier with One-hot vectorization']\n",
    "index_set =['Precision : TrainingSet','Precision : TestSet','Recall : TrainingSet','Recall : TestSet','F1Score : TrainingSet','F1Score : TestSet','Accuracy : TrainingSet','Accuracy : TestSet']\n",
    "\n",
    "column_list=[]\n",
    "for i in range(5):\n",
    "  dict_train = classification_report(train_labels, predicted_label_trainset[i],  digits=3, zero_division=0, target_names=uniquelabels_tr, output_dict=True)\n",
    "  dict_test = classification_report(test_labels, predicted_label_testset[i],  digits=3, zero_division=0, target_names=uniquelabels_test, output_dict=True)\n",
    "  sublist=[]\n",
    "  sublist.append(round(dict_train['weighted avg']['precision'],3))\n",
    "  sublist.append(round(dict_test['weighted avg']['precision'],3))\n",
    "  sublist.append(round(dict_train['weighted avg']['recall'],3))\n",
    "  sublist.append(round(dict_test['weighted avg']['recall'],3))\n",
    "  sublist.append(round(dict_train['weighted avg']['f1-score'],3))\n",
    "  sublist.append(round(dict_test['weighted avg']['f1-score'],3))\n",
    "  sublist.append(round(dict_train['accuracy'],3))\n",
    "  sublist.append(round(dict_test['accuracy'],3))\n",
    "  column_list.append(sublist)\n",
    "\n",
    "col_arry = np.array(column_list)\n",
    "col_arry_T=col_arry.T\n",
    "best_indices=col_arry_T.argmax(axis=1)\n",
    "best_list=[]\n",
    "for i in best_indices:\n",
    "  best_list.append(classifier_set[i])\n",
    "\n",
    "df = pd.DataFrame(col_arry_T,columns=['Dummy:strategy=most_frequent','Dummy:strategy=stratified','LR:One-hot vectorization','LR:TF-IDF vectorization','SVC:One-hot vectorization'])\n",
    "df['Performance Metrics']= index_set\n",
    "df.set_index('Performance Metrics', inplace=True)\n",
    "df['Best'] = best_list\n",
    "df\n"
   ]
  },
  {
   "cell_type": "markdown",
   "metadata": {
    "id": "mVqdrSH8m00c"
   },
   "source": [
    "**According to the consolidated table above , the Logistic Regression classifier with TF-IDF vectorizer had the best accuracy, precision, recall and F1 scores (weighted-avg) on test dataset making it the most reliable machine learning classifier for this data set followed by LR and SVC classifiers with one hot vectorizer.**"
   ]
  },
  {
   "cell_type": "markdown",
   "metadata": {
    "id": "ifwefSdDrlCC"
   },
   "source": [
    "\n",
    "\n",
    "*   **best performing classifier** (by weighted F1 in test set) Include a bar chart graph with the F1 score for each class - (subreddits on x-axis, F1 score on Y axis).\n",
    "\n"
   ]
  },
  {
   "cell_type": "code",
   "execution_count": 27,
   "metadata": {
    "colab": {
     "base_uri": "https://localhost:8080/",
     "height": 1000
    },
    "id": "DW2h8UL8cm5L",
    "outputId": "400c7877-085e-4d33-dc7e-e2bf59df3ca9"
   },
   "outputs": [
    {
     "name": "stdout",
     "output_type": "stream",
     "text": [
      "Evaluation for: LogisticRegression with TF-IDF vectorization\n",
      "                precision    recall  f1-score   support\n",
      "\n",
      "        Coffee      0.911     0.911     0.911        56\n",
      "NintendoSwitch      0.909     0.789     0.845        38\n",
      "          xbox      0.695     0.788     0.739        52\n",
      "           tea      0.559     0.688     0.617        48\n",
      "       antiMLM      0.788     0.897     0.839        29\n",
      "      pcgaming      0.837     0.818     0.828        44\n",
      "           PS4      0.675     0.574     0.621        47\n",
      "   HydroHomies      0.902     0.881     0.892        42\n",
      "          Soda      0.806     0.659     0.725        44\n",
      "\n",
      "      accuracy                          0.775       400\n",
      "     macro avg      0.787     0.778     0.779       400\n",
      "  weighted avg      0.783     0.775     0.776       400\n",
      "\n"
     ]
    },
    {
     "data": {
      "text/plain": [
       "Text(0, 0.5, 'F1 score')"
      ]
     },
     "execution_count": 27,
     "metadata": {},
     "output_type": "execute_result"
    },
    {
     "data": {
      "image/png": "[encoded data removed]",
      "text/plain": [
       "<Figure size 432x288 with 2 Axes>"
      ]
     },
     "metadata": {
      "needs_background": "light"
     },
     "output_type": "display_data"
    },
    {
     "data": {
      "image/png": "[encoded data removed]",
      "text/plain": [
       "<Figure size 432x288 with 1 Axes>"
      ]
     },
     "metadata": {
      "needs_background": "light"
     },
     "output_type": "display_data"
    }
   ],
   "source": [
    "#the best one\n",
    "ind = best_indices[5]\n",
    "evaluation_summary(classifier_set[ind], test_labels, predicted_label_testset[ind],  uniquelabels_test)\n",
    "ConfusionMatrixDisplay.from_predictions(test_labels, predicted_label_testset[ind],xticks_rotation='vertical')\n",
    "\n",
    "dict1 = classification_report(test_labels, predicted_label_testset[ind],  digits=3, zero_division=0, target_names=uniquelabels_test, output_dict=True)\n",
    "df = pd.DataFrame(list(dict1.items()), columns=['label','value'])\n",
    "new_df = df.T\n",
    "label_arr=[]\n",
    "score_arr=[]\n",
    "for i in range(len(new_df.columns)):\n",
    "  if new_df[i]['label'] in uniquelabels_test:\n",
    "    label_arr.append(new_df[i]['label'])\n",
    "    score_arr.append(np.round(new_df[i]['value'].get('f1-score'),3))\n",
    "\n",
    "label_df=pd.DataFrame({'subreddits': label_arr ,'F1_Score': score_arr}, index=label_arr)\n",
    "#label_df\n",
    "label_df.plot.bar()\n",
    "plt.title(classifier_set[ind])\n",
    "plt.xlabel(\"subreddits\")\n",
    "plt.ylabel(\"F1 score\")"
   ]
  },
  {
   "cell_type": "markdown",
   "metadata": {
    "id": "YBMJdw_j_8fx"
   },
   "source": [
    "### Q1c:   Choose your own classifier/tokenization/normalisations approach, and report on its performance with respect to the five previous ones on the test set. [2 marks]"
   ]
  },
  {
   "cell_type": "code",
   "execution_count": 28,
   "metadata": {
    "id": "98mmYcrrqTsd"
   },
   "outputs": [],
   "source": [
    "#function removes emoticons and irrelavant symbols, pictographs etc from input text\n",
    "def remove_emoji(text_data):\n",
    "    emoji_pattern = re.compile(\"[\"\n",
    "                               u\"\\U0001F600-\\U0001F64F\"  # emoticons\n",
    "                               u\"\\U0001F300-\\U0001F5FF\"  # symbols & pictographs\n",
    "                               u\"\\U0001F680-\\U0001F6FF\"  # transport & map symbols\n",
    "                               u\"\\U0001F1E0-\\U0001F1FF\"  # flags (iOS)\n",
    "                               u\"\\U00002500-\\U00002BEF\"  # chinese char\n",
    "                               u\"\\U00002702-\\U000027B0\"\n",
    "                               u\"\\U00002702-\\U000027B0\"\n",
    "                               u\"\\U000024C2-\\U0001F251\"\n",
    "                               u\"\\U0001f926-\\U0001f937\"\n",
    "                               u\"\\U00010000-\\U0010ffff\"\n",
    "                               u\"\\u2640-\\u2642\"\n",
    "                               u\"\\u2600-\\u2B55\"\n",
    "                               u\"\\u200d\"\n",
    "                               u\"\\u23cf\"\n",
    "                               u\"\\u23e9\"\n",
    "                               u\"\\u231a\"\n",
    "                               u\"\\ufe0f\"  # dingbats\n",
    "                               u\"\\u3030\"\n",
    "                               \"]+\", flags=re.UNICODE)\n",
    "    return emoji_pattern.sub(r'', text_data)\n",
    "#remove_emoji(\"Hi 🤔 How is your 🙈 and 😌. Have a nice weekend 💕👭👙\")"
   ]
  },
  {
   "cell_type": "code",
   "execution_count": 29,
   "metadata": {
    "id": "vY3IBYOUsSn3"
   },
   "outputs": [],
   "source": [
    "#function removes all html tags from input text\n",
    "def remove_html(text_data):\n",
    "  soup = BeautifulSoup(text_data, 'lxml')\n",
    "  return soup.get_text()\n",
    "#remove_html(\"<html><head></head><body onload=loadfunc()>my text<br/>\")"
   ]
  },
  {
   "cell_type": "code",
   "execution_count": 30,
   "metadata": {
    "id": "kPokkGUytFVc"
   },
   "outputs": [],
   "source": [
    "#function that expands some commonly used english short forms\n",
    "def word_expansion(text_data):\n",
    "\n",
    "  text_data = re.sub(r\"won\\'t\", \"will not\", text_data)\n",
    "  text_data = re.sub(r\"can\\'t\", \"can not\", text_data)\n",
    "  text_data = re.sub(r\"won\\’t\", \"will not\", text_data)\n",
    "  text_data = re.sub(r\"can\\’t\", \"can not\", text_data)\n",
    "  text_data = re.sub(r\"n\\'t\", \" not\", text_data)\n",
    "  text_data = re.sub(r\"\\'re\", \" are\", text_data)\n",
    "  text_data = re.sub(r\"\\'s\", \" is\", text_data)\n",
    "  text_data = re.sub(r\"\\'d\", \" would\", text_data)\n",
    "  text_data = re.sub(r\"\\'ll\", \" will\", text_data)\n",
    "  text_data = re.sub(r\"\\'t\", \" not\", text_data)\n",
    "  text_data = re.sub(r\"\\'ve\", \" have\", text_data)\n",
    "  text_data = re.sub(r\"\\'m\", \" am\", text_data)\n",
    "  text_data = re.sub(r\"n\\’t\", \" not\", text_data)\n",
    "  text_data = re.sub(r\"\\’re\", \" are\", text_data)\n",
    "  text_data = re.sub(r\"\\’s\", \" is\", text_data)\n",
    "  text_data = re.sub(r\"\\’d\", \" would\", text_data)\n",
    "  text_data = re.sub(r\"\\’ll\", \" will\", text_data)\n",
    "  text_data = re.sub(r\"\\’t\", \" not\", text_data)\n",
    "  text_data = re.sub(r\"\\’ve\", \" have\", text_data)\n",
    "  text_data = re.sub(r\"\\’m\", \" am\", text_data)\n",
    "\n",
    "  return text_data"
   ]
  },
  {
   "cell_type": "markdown",
   "metadata": {
    "id": "EdBQgMpZlKYI"
   },
   "source": [
    "Created a **custom tokenizer**(function name: custom_tokenizer ()) for converting the text (body of reddit post) into list of words assuming that the better we tokenize the body text, the better the final result will be."
   ]
  },
  {
   "cell_type": "code",
   "execution_count": 31,
   "metadata": {
    "id": "SXuD5lbW1Bo1"
   },
   "outputs": [],
   "source": [
    "def custom_tokenizer(text): \n",
    "    text = remove_html(text)    # Cleaning html elements if any\n",
    "    text = re.sub(r'https?://\\S+|www\\.\\S+', '', text)    # Cleaning urls if any\n",
    "    text = ''.join([i for i in text if not i.isdigit()])\n",
    "    text = remove_emoji(text)\n",
    "    text = word_expansion(text)\n",
    "    text = text.translate ({ord(char): \"\" for char in \"!@#$%^&*()[]{};':,./<>?\\|`~-=_+\"}) #remove all special characters\n",
    "    text = text.lower() #normalising - convert all words to lowercase by calling the lower() function on each word.\n",
    "    tokens = []\n",
    "    doc = nlp(text) #tokenize\n",
    "    for t in doc:\n",
    "        if not t.is_stop and not t.is_space:\n",
    "            tokens.append(t.lemma_) #lemmatization\n",
    "    return tokens"
   ]
  },
  {
   "cell_type": "code",
   "execution_count": 32,
   "metadata": {
    "id": "R3ZkLCUgIPmM"
   },
   "outputs": [],
   "source": [
    "#create TF-IDF vectorization. Pass in the tokenizer as the tokenizer to the vectorizer.\n",
    "tfidf_vectorizer_custom = TfidfVectorizer(tokenizer=custom_tokenizer)\n",
    "tr_vector_tfidf_custom = tfidf_vectorizer.fit_transform(train_data_df['body'].tolist())\n",
    "test_vector_tfidf_custom = tfidf_vectorizer.transform(test_data_df['body'])"
   ]
  },
  {
   "cell_type": "code",
   "execution_count": 33,
   "metadata": {
    "colab": {
     "base_uri": "https://localhost:8080/",
     "height": 956
    },
    "id": "EEuTITs_HVte",
    "outputId": "3e860ea9-6751-4429-b43d-abd61cb865b4"
   },
   "outputs": [
    {
     "name": "stdout",
     "output_type": "stream",
     "text": [
      "Evaluation for: SGD with TF-IDF Vectorization with custom tokenizer: Traing set\n",
      "                precision    recall  f1-score   support\n",
      "\n",
      "           PS4      1.000     1.000     1.000       136\n",
      "      pcgaming      1.000     1.000     1.000       134\n",
      "NintendoSwitch      1.000     1.000     1.000       145\n",
      "       antiMLM      1.000     1.000     1.000       142\n",
      "   HydroHomies      1.000     1.000     1.000       102\n",
      "        Coffee      1.000     1.000     1.000       128\n",
      "          xbox      1.000     1.000     1.000       135\n",
      "          Soda      1.000     1.000     1.000       146\n",
      "           tea      1.000     1.000     1.000       132\n",
      "\n",
      "      accuracy                          1.000      1200\n",
      "     macro avg      1.000     1.000     1.000      1200\n",
      "  weighted avg      1.000     1.000     1.000      1200\n",
      "\n",
      "Evaluation for: SGD with TF-IDF Vectorization with custom tokenizer: Test set\n",
      "                precision    recall  f1-score   support\n",
      "\n",
      "        Coffee      0.887     0.839     0.862        56\n",
      "NintendoSwitch      0.919     0.895     0.907        38\n",
      "          xbox      0.708     0.654     0.680        52\n",
      "           tea      0.574     0.562     0.568        48\n",
      "       antiMLM      0.742     0.793     0.767        29\n",
      "      pcgaming      0.833     0.795     0.814        44\n",
      "           PS4      0.566     0.638     0.600        47\n",
      "   HydroHomies      0.760     0.905     0.826        42\n",
      "          Soda      0.692     0.614     0.651        44\n",
      "\n",
      "      accuracy                          0.738       400\n",
      "     macro avg      0.742     0.744     0.742       400\n",
      "  weighted avg      0.740     0.738     0.737       400\n",
      "\n"
     ]
    },
    {
     "data": {
      "text/plain": [
       "<sklearn.metrics._plot.confusion_matrix.ConfusionMatrixDisplay at 0x7f972b965e50>"
      ]
     },
     "execution_count": 33,
     "metadata": {},
     "output_type": "execute_result"
    },
    {
     "data": {
      "image/png": "[encoded data removed]",
      "text/plain": [
       "<Figure size 432x288 with 2 Axes>"
      ]
     },
     "metadata": {
      "needs_background": "light"
     },
     "output_type": "display_data"
    }
   ],
   "source": [
    "sgd = SGDClassifier(random_state=1)\n",
    "\n",
    "sgd_model = sgd.fit(tr_vector_tfidf_custom, train_labels)\n",
    "sgd_predicted_tr = sgd_model.predict(tr_vector_tfidf_custom)\n",
    "evaluation_summary(\"SGD with TF-IDF Vectorization with custom tokenizer: Traing set\", train_labels, sgd_predicted_tr,  uniquelabels_tr)\n",
    "\n",
    "sgd_predicted_test = sgd_model.predict(test_vector_tfidf_custom)\n",
    "evaluation_summary(\"SGD with TF-IDF Vectorization with custom tokenizer: Test set\", test_labels, sgd_predicted_test,  uniquelabels_test)\n",
    "ConfusionMatrixDisplay.from_predictions(test_labels, sgd_predicted_test,xticks_rotation='vertical')"
   ]
  },
  {
   "cell_type": "code",
   "execution_count": 34,
   "metadata": {
    "colab": {
     "base_uri": "https://localhost:8080/",
     "height": 206
    },
    "id": "haoaN2y14q0C",
    "outputId": "f0c7e361-8259-475c-dff7-48dad42bfb8e"
   },
   "outputs": [
    {
     "data": {
      "text/html": [
       "\n",
       "  <div id=\"df-04a1baac-0d85-4417-aa2f-c92a98633e47\">\n",
       "    <div class=\"colab-df-container\">\n",
       "      <div>\n",
       "<style scoped>\n",
       "    .dataframe tbody tr th:only-of-type {\n",
       "        vertical-align: middle;\n",
       "    }\n",
       "\n",
       "    .dataframe tbody tr th {\n",
       "        vertical-align: top;\n",
       "    }\n",
       "\n",
       "    .dataframe thead th {\n",
       "        text-align: right;\n",
       "    }\n",
       "</style>\n",
       "<table border=\"1\" class=\"dataframe\">\n",
       "  <thead>\n",
       "    <tr style=\"text-align: right;\">\n",
       "      <th></th>\n",
       "      <th>Dummy:most_frequent</th>\n",
       "      <th>Dummy:stratified</th>\n",
       "      <th>LR:One-hot</th>\n",
       "      <th>LR:TF-IDF</th>\n",
       "      <th>SVC:Onehot</th>\n",
       "      <th>SGD:TFIDF:Custom</th>\n",
       "      <th>Best</th>\n",
       "    </tr>\n",
       "    <tr>\n",
       "      <th>Performance Metrics</th>\n",
       "      <th></th>\n",
       "      <th></th>\n",
       "      <th></th>\n",
       "      <th></th>\n",
       "      <th></th>\n",
       "      <th></th>\n",
       "      <th></th>\n",
       "    </tr>\n",
       "  </thead>\n",
       "  <tbody>\n",
       "    <tr>\n",
       "      <th>Precision</th>\n",
       "      <td>0.011</td>\n",
       "      <td>0.124</td>\n",
       "      <td>0.666</td>\n",
       "      <td>0.783</td>\n",
       "      <td>0.626</td>\n",
       "      <td>0.740</td>\n",
       "      <td>LogisticRegression with TF-IDF vectorization</td>\n",
       "    </tr>\n",
       "    <tr>\n",
       "      <th>Recall</th>\n",
       "      <td>0.105</td>\n",
       "      <td>0.122</td>\n",
       "      <td>0.655</td>\n",
       "      <td>0.775</td>\n",
       "      <td>0.557</td>\n",
       "      <td>0.738</td>\n",
       "      <td>LogisticRegression with TF-IDF vectorization</td>\n",
       "    </tr>\n",
       "    <tr>\n",
       "      <th>F1Score</th>\n",
       "      <td>0.020</td>\n",
       "      <td>0.123</td>\n",
       "      <td>0.656</td>\n",
       "      <td>0.776</td>\n",
       "      <td>0.564</td>\n",
       "      <td>0.737</td>\n",
       "      <td>LogisticRegression with TF-IDF vectorization</td>\n",
       "    </tr>\n",
       "    <tr>\n",
       "      <th>Accuracy</th>\n",
       "      <td>0.105</td>\n",
       "      <td>0.122</td>\n",
       "      <td>0.655</td>\n",
       "      <td>0.775</td>\n",
       "      <td>0.557</td>\n",
       "      <td>0.738</td>\n",
       "      <td>LogisticRegression with TF-IDF vectorization</td>\n",
       "    </tr>\n",
       "  </tbody>\n",
       "</table>\n",
       "</div>\n",
       "      <button class=\"colab-df-convert\" onclick=\"convertToInteractive('df-04a1baac-0d85-4417-aa2f-c92a98633e47')\"\n",
       "              title=\"Convert this dataframe to an interactive table.\"\n",
       "              style=\"display:none;\">\n",
       "        \n",
       "  <svg xmlns=\"http://www.w3.org/2000/svg\" height=\"24px\"viewBox=\"0 0 24 24\"\n",
       "       width=\"24px\">\n",
       "    <path d=\"M0 0h24v24H0V0z\" fill=\"none\"/>\n",
       "    <path d=\"M18.56 5.44l.94 2.06.94-2.06 2.06-.94-2.06-.94-.94-2.06-.94 2.06-2.06.94zm-11 1L8.5 8.5l.94-2.06 2.06-.94-2.06-.94L8.5 2.5l-.94 2.06-2.06.94zm10 10l.94 2.06.94-2.06 2.06-.94-2.06-.94-.94-2.06-.94 2.06-2.06.94z\"/><path d=\"M17.41 7.96l-1.37-1.37c-.4-.4-.92-.59-1.43-.59-.52 0-1.04.2-1.43.59L10.3 9.45l-7.72 7.72c-.78.78-.78 2.05 0 2.83L4 21.41c.39.39.9.59 1.41.59.51 0 1.02-.2 1.41-.59l7.78-7.78 2.81-2.81c.8-.78.8-2.07 0-2.86zM5.41 20L4 18.59l7.72-7.72 1.47 1.35L5.41 20z\"/>\n",
       "  </svg>\n",
       "      </button>\n",
       "      \n",
       "  <style>\n",
       "    .colab-df-container {\n",
       "      display:flex;\n",
       "      flex-wrap:wrap;\n",
       "      gap: 12px;\n",
       "    }\n",
       "\n",
       "    .colab-df-convert {\n",
       "      background-color: #E8F0FE;\n",
       "      border: none;\n",
       "      border-radius: 50%;\n",
       "      cursor: pointer;\n",
       "      display: none;\n",
       "      fill: #1967D2;\n",
       "      height: 32px;\n",
       "      padding: 0 0 0 0;\n",
       "      width: 32px;\n",
       "    }\n",
       "\n",
       "    .colab-df-convert:hover {\n",
       "      background-color: #E2EBFA;\n",
       "      box-shadow: 0px 1px 2px rgba(60, 64, 67, 0.3), 0px 1px 3px 1px rgba(60, 64, 67, 0.15);\n",
       "      fill: #174EA6;\n",
       "    }\n",
       "\n",
       "    [theme=dark] .colab-df-convert {\n",
       "      background-color: #3B4455;\n",
       "      fill: #D2E3FC;\n",
       "    }\n",
       "\n",
       "    [theme=dark] .colab-df-convert:hover {\n",
       "      background-color: #434B5C;\n",
       "      box-shadow: 0px 1px 3px 1px rgba(0, 0, 0, 0.15);\n",
       "      filter: drop-shadow(0px 1px 2px rgba(0, 0, 0, 0.3));\n",
       "      fill: #FFFFFF;\n",
       "    }\n",
       "  </style>\n",
       "\n",
       "      <script>\n",
       "        const buttonEl =\n",
       "          document.querySelector('#df-04a1baac-0d85-4417-aa2f-c92a98633e47 button.colab-df-convert');\n",
       "        buttonEl.style.display =\n",
       "          google.colab.kernel.accessAllowed ? 'block' : 'none';\n",
       "\n",
       "        async function convertToInteractive(key) {\n",
       "          const element = document.querySelector('#df-04a1baac-0d85-4417-aa2f-c92a98633e47');\n",
       "          const dataTable =\n",
       "            await google.colab.kernel.invokeFunction('convertToInteractive',\n",
       "                                                     [key], {});\n",
       "          if (!dataTable) return;\n",
       "\n",
       "          const docLinkHtml = 'Like what you see? Visit the ' +\n",
       "            '<a target=\"_blank\" href=https://colab.research.google.com/notebooks/data_table.ipynb>data table notebook</a>'\n",
       "            + ' to learn more about interactive tables.';\n",
       "          element.innerHTML = '';\n",
       "          dataTable['output_type'] = 'display_data';\n",
       "          await google.colab.output.renderOutput(dataTable, element);\n",
       "          const docLink = document.createElement('div');\n",
       "          docLink.innerHTML = docLinkHtml;\n",
       "          element.appendChild(docLink);\n",
       "        }\n",
       "      </script>\n",
       "    </div>\n",
       "  </div>\n",
       "  "
      ],
      "text/plain": [
       "                     Dummy:most_frequent  Dummy:stratified  LR:One-hot  \\\n",
       "Performance Metrics                                                      \n",
       "Precision                          0.011             0.124       0.666   \n",
       "Recall                             0.105             0.122       0.655   \n",
       "F1Score                            0.020             0.123       0.656   \n",
       "Accuracy                           0.105             0.122       0.655   \n",
       "\n",
       "                     LR:TF-IDF  SVC:Onehot  SGD:TFIDF:Custom  \\\n",
       "Performance Metrics                                            \n",
       "Precision                0.783       0.626             0.740   \n",
       "Recall                   0.775       0.557             0.738   \n",
       "F1Score                  0.776       0.564             0.737   \n",
       "Accuracy                 0.775       0.557             0.738   \n",
       "\n",
       "                                                             Best  \n",
       "Performance Metrics                                                \n",
       "Precision            LogisticRegression with TF-IDF vectorization  \n",
       "Recall               LogisticRegression with TF-IDF vectorization  \n",
       "F1Score              LogisticRegression with TF-IDF vectorization  \n",
       "Accuracy             LogisticRegression with TF-IDF vectorization  "
      ]
     },
     "execution_count": 34,
     "metadata": {},
     "output_type": "execute_result"
    }
   ],
   "source": [
    "predicted_label_testset = [dummy_frq_predicted_test,dummy_str_predicted_test,lr_onehot_predicted_test,lr_tfidf_predicted_test,\n",
    "                           svc_predicted_test,sgd_predicted_test]\n",
    "classifier_set =['Dummy Classifier with strategy=\"most_frequent\"','Dummy Classifier with strategy=\"stratified\"','LogisticRegression with One-hot vectorization',\n",
    "                 'LogisticRegression with TF-IDF vectorization','SVC Classifier with One-hot vectorization','SGD Custom Tokenizer-TF-IDF Vectorization']\n",
    "index_set =['Precision','Recall','F1Score','Accuracy']\n",
    "\n",
    "column_list=[]\n",
    "for i in range(6):\n",
    "  dict_test = classification_report(test_labels, predicted_label_testset[i],  digits=3, zero_division=0, target_names=uniquelabels_test, output_dict=True)\n",
    "  sublist=[]\n",
    "  sublist.append(round(dict_test['weighted avg']['precision'],3))\n",
    "  sublist.append(round(dict_test['weighted avg']['recall'],3))\n",
    "  sublist.append(round(dict_test['weighted avg']['f1-score'],3))\n",
    "  sublist.append(round(dict_test['accuracy'],3))\n",
    "  column_list.append(sublist)\n",
    "\n",
    "col_arry = np.array(column_list)\n",
    "col_arry_T=col_arry.T\n",
    "best_indices=col_arry_T.argmax(axis=1)\n",
    "best_list=[]\n",
    "for i in best_indices:\n",
    "  best_list.append(classifier_set[i])\n",
    "\n",
    "df = pd.DataFrame(col_arry_T,columns=['Dummy:most_frequent','Dummy:stratified','LR:One-hot','LR:TF-IDF','SVC:Onehot','SGD:TFIDF:Custom'])\n",
    "df['Performance Metrics']= index_set\n",
    "df.set_index('Performance Metrics', inplace=True)\n",
    "df['Best'] = best_list\n",
    "df"
   ]
  },
  {
   "cell_type": "code",
   "execution_count": 35,
   "metadata": {
    "colab": {
     "base_uri": "https://localhost:8080/",
     "height": 420
    },
    "id": "q8UNbVpJYCqu",
    "outputId": "a40efc9e-4c3f-4385-feb1-e7fda34c0f60"
   },
   "outputs": [
    {
     "data": {
      "text/plain": [
       "[Text(0, 0.5, 'Accuracy'),\n",
       " Text(0.5, 0, 'classifier/tokenization/normalisations approach on test data')]"
      ]
     },
     "execution_count": 35,
     "metadata": {},
     "output_type": "execute_result"
    },
    {
     "data": {
      "image/png": "[encoded data removed]",
      "text/plain": [
       "<Figure size 1440x360 with 2 Axes>"
      ]
     },
     "metadata": {
      "needs_background": "light"
     },
     "output_type": "display_data"
    }
   ],
   "source": [
    "fig, (ax1, ax2)= plt.subplots(1, 2,figsize=(20,5))\n",
    "plot_df = df[df.index == 'F1Score']\n",
    "plot_df.plot.bar(ax=ax1)\n",
    "ax1.title.set_text(\"F1 Score Comparison\")\n",
    "ax1.set(xlabel='classifier/tokenization/normalisations approach on test data', ylabel='F1_Score')\n",
    "\n",
    "plot_df = df[df.index == 'Accuracy']\n",
    "plot_df.plot.bar(ax=ax2)\n",
    "ax2.title.set_text(\"Accuracy Comparison\")\n",
    "ax2.set(xlabel='classifier/tokenization/normalisations approach on test data', ylabel='Accuracy')"
   ]
  },
  {
   "cell_type": "markdown",
   "metadata": {
    "id": "zZcRes8WAOo6"
   },
   "source": [
    "## Q2: Tuning and Error Analysis [10 marks]"
   ]
  },
  {
   "cell_type": "markdown",
   "metadata": {
    "id": "ZuAxwU0IABir"
   },
   "source": [
    "* ### **Q2a: Parameter tuning**"
   ]
  },
  {
   "cell_type": "markdown",
   "metadata": {
    "id": "l9-noDmnvpuj"
   },
   "source": [
    "Logistic Regression with TF-IDF vectorization is identified as the most reliable classifier from Q1.b. Further improving model performance CV-fold validation on training set using grid search strategy used for parameter tuning. Below parameters are used for tuning"
   ]
  },
  {
   "cell_type": "code",
   "execution_count": 36,
   "metadata": {
    "colab": {
     "base_uri": "https://localhost:8080/"
    },
    "id": "0f8LOI6N7iQS",
    "outputId": "0c3b130c-8eb2-4a9f-f56a-a65f80a1aaf2"
   },
   "outputs": [
    {
     "name": "stdout",
     "output_type": "stream",
     "text": [
      "Evaluation for: LR-TFIDF : Before parameter tuning: training set\n",
      "                precision    recall  f1-score   support\n",
      "\n",
      "           PS4      0.993     1.000     0.996       136\n",
      "      pcgaming      1.000     0.993     0.996       134\n",
      "NintendoSwitch      0.986     1.000     0.993       145\n",
      "       antiMLM      0.986     0.993     0.989       142\n",
      "   HydroHomies      1.000     1.000     1.000       102\n",
      "        Coffee      0.977     1.000     0.988       128\n",
      "          xbox      1.000     0.985     0.993       135\n",
      "          Soda      1.000     1.000     1.000       146\n",
      "           tea      1.000     0.970     0.985       132\n",
      "\n",
      "      accuracy                          0.993      1200\n",
      "     macro avg      0.994     0.993     0.993      1200\n",
      "  weighted avg      0.993     0.993     0.993      1200\n",
      "\n",
      "Evaluation for: LR-TFIDF : Before parameter tuning: test set\n",
      "                precision    recall  f1-score   support\n",
      "\n",
      "        Coffee      0.911     0.911     0.911        56\n",
      "NintendoSwitch      0.909     0.789     0.845        38\n",
      "          xbox      0.695     0.788     0.739        52\n",
      "           tea      0.559     0.688     0.617        48\n",
      "       antiMLM      0.788     0.897     0.839        29\n",
      "      pcgaming      0.837     0.818     0.828        44\n",
      "           PS4      0.675     0.574     0.621        47\n",
      "   HydroHomies      0.902     0.881     0.892        42\n",
      "          Soda      0.806     0.659     0.725        44\n",
      "\n",
      "      accuracy                          0.775       400\n",
      "     macro avg      0.787     0.778     0.779       400\n",
      "  weighted avg      0.783     0.775     0.776       400\n",
      "\n"
     ]
    }
   ],
   "source": [
    "#LR- TFIDF Vectorizer before paramter tuning\n",
    "prediction_pipeline = Pipeline([\n",
    "              ('selector', ItemSelector(key='body')),\n",
    "              ('tf-idf', TfidfVectorizer()),\n",
    "              ('logreg', LogisticRegression(random_state=1))\n",
    "              ])\n",
    "prediction_pipeline.fit(train_data_df, train_labels)\n",
    "evaluation_summary(\"LR-TFIDF : Before parameter tuning: training set\", train_labels, prediction_pipeline.predict(train_data_df), uniquelabels_tr)\n",
    "evaluation_summary(\"LR-TFIDF : Before parameter tuning: test set\", test_labels, prediction_pipeline.predict(test_data_df), uniquelabels_test)"
   ]
  },
  {
   "cell_type": "code",
   "execution_count": 37,
   "metadata": {
    "colab": {
     "base_uri": "https://localhost:8080/"
    },
    "id": "2A0MJCaeFEIo",
    "outputId": "c7e02aac-2e71-4513-ee67-18fb8a0bcf8b"
   },
   "outputs": [
    {
     "name": "stdout",
     "output_type": "stream",
     "text": [
      "LR cssifier available paramters: dict_keys(['C', 'class_weight', 'dual', 'fit_intercept', 'intercept_scaling', 'l1_ratio', 'max_iter', 'multi_class', 'n_jobs', 'penalty', 'random_state', 'solver', 'tol', 'verbose', 'warm_start'])\n",
      "Pipeline available paramters: dict_keys(['memory', 'steps', 'verbose', 'selector', 'tf-idf', 'logreg', 'selector__key', 'tf-idf__analyzer', 'tf-idf__binary', 'tf-idf__decode_error', 'tf-idf__dtype', 'tf-idf__encoding', 'tf-idf__input', 'tf-idf__lowercase', 'tf-idf__max_df', 'tf-idf__max_features', 'tf-idf__min_df', 'tf-idf__ngram_range', 'tf-idf__norm', 'tf-idf__preprocessor', 'tf-idf__smooth_idf', 'tf-idf__stop_words', 'tf-idf__strip_accents', 'tf-idf__sublinear_tf', 'tf-idf__token_pattern', 'tf-idf__tokenizer', 'tf-idf__use_idf', 'tf-idf__vocabulary', 'logreg__C', 'logreg__class_weight', 'logreg__dual', 'logreg__fit_intercept', 'logreg__intercept_scaling', 'logreg__l1_ratio', 'logreg__max_iter', 'logreg__multi_class', 'logreg__n_jobs', 'logreg__penalty', 'logreg__random_state', 'logreg__solver', 'logreg__tol', 'logreg__verbose', 'logreg__warm_start'])\n",
      "TF IDF vectorizer available paramters: dict_keys(['analyzer', 'binary', 'decode_error', 'dtype', 'encoding', 'input', 'lowercase', 'max_df', 'max_features', 'min_df', 'ngram_range', 'norm', 'preprocessor', 'smooth_idf', 'stop_words', 'strip_accents', 'sublinear_tf', 'token_pattern', 'tokenizer', 'use_idf', 'vocabulary'])\n"
     ]
    }
   ],
   "source": [
    "print(\"LR cssifier available paramters:\" ,lr_tfidf_clf.get_params().keys())\n",
    "print(\"Pipeline available paramters:\", prediction_pipeline.get_params().keys())\n",
    "print(\"TF IDF vectorizer available paramters:\" ,tfidf_vectorizer.get_params().keys())"
   ]
  },
  {
   "cell_type": "code",
   "execution_count": 557,
   "metadata": {
    "colab": {
     "base_uri": "https://localhost:8080/"
    },
    "id": "6sdfLXLKAY5Z",
    "outputId": "bfcc1849-7125-4282-cf22-f77b64a652d6"
   },
   "outputs": [
    {
     "name": "stdout",
     "output_type": "stream",
     "text": [
      "Performing grid search...\n",
      "pipeline: ['selector', 'tf-idf', 'logreg']\n",
      "parameters:\n",
      "{'logreg__C': [0.0001, 0.001, 0.01, 0.1, 1, 10, 100, 1000],\n",
      " 'tf-idf__max_features': [None, 1000, 1100, 1200, 1300, 1400, 1500],\n",
      " 'tf-idf__sublinear_tf': [True, False]}\n",
      "Fitting 2 folds for each of 112 candidates, totalling 224 fits\n",
      "done in 91.334s\n",
      "\n",
      "Best score: 0.743\n",
      "Best parameters set:\n",
      "\tlogreg__C: 100\n",
      "\ttf-idf__max_features: None\n",
      "\ttf-idf__sublinear_tf: True\n"
     ]
    }
   ],
   "source": [
    "#Tuning paramters to improve model performance\n",
    "parameters = {\n",
    "    'tf-idf__sublinear_tf':[True,False],\n",
    "    \"logreg__C\": [0.0001, 0.001, 0.01, 0.1, 1, 10, 100, 1000],\n",
    "    \"tf-idf__max_features\": [None,1000,1100,1200,1300,1400,1500],\n",
    "    #\"logreg__max_iter\" : [1000,2000,3000,4000,5000]\n",
    "    #'tf-idf__max_df':np.linspace(0.1, 1, 10),\n",
    "    #'tf-idf__ngram_range': [(1, 1), (1, 2), (1, 3)],\n",
    "    #'logreg__max_iter':[100,200,300,400,500]\n",
    "    #'logreg__solver' : ['newton-cg', 'liblinear',  'sag','saga'],\n",
    "    #\"tf-idf__norm\" : ['l1', 'l2'],\n",
    "    #\"logreg__penalty\":['none','elasticnet','l1','l2'],\n",
    "    #\"logreg__class_weight\":['balanced'],\n",
    "}\n",
    "\n",
    "grid_search = GridSearchCV(prediction_pipeline, param_grid=parameters, n_jobs=1, verbose=1, scoring='f1_weighted', cv=2)\n",
    "\n",
    "print(\"Performing grid search...\")\n",
    "print(\"pipeline:\", [name for name, _ in prediction_pipeline.steps])\n",
    "print(\"parameters:\")\n",
    "pprint(parameters)\n",
    "t0 = time()\n",
    "grid_search.fit(train_data_df, train_labels)\n",
    "print(\"done in %0.3fs\" % (time() - t0))\n",
    "print()\n",
    "\n",
    "print(\"Best score: %0.3f\" % grid_search.best_score_)\n",
    "print(\"Best parameters set:\")\n",
    "best_parameters = grid_search.best_estimator_.get_params()\n",
    "for param_name in sorted(parameters.keys()):\n",
    "  print(\"\\t%s: %r\" % (param_name, best_parameters[param_name]))"
   ]
  },
  {
   "cell_type": "code",
   "execution_count": 37,
   "metadata": {
    "colab": {
     "base_uri": "https://localhost:8080/",
     "height": 956
    },
    "id": "J20eUJr760Zx",
    "outputId": "4ec97bb4-17eb-4440-9420-269c0d4a8b98"
   },
   "outputs": [
    {
     "name": "stdout",
     "output_type": "stream",
     "text": [
      "Evaluation for: LR - TF IDF with paramter tuning on Validation set\n",
      "                precision    recall  f1-score   support\n",
      "\n",
      "        Coffee      0.881     0.881     0.881        42\n",
      "   HydroHomies      0.829     0.895     0.861        38\n",
      "          Soda      0.736     0.750     0.743        52\n",
      "           tea      0.468     0.512     0.489        43\n",
      "           PS4      0.900     0.837     0.867        43\n",
      "      pcgaming      0.825     0.870     0.847        54\n",
      "          xbox      0.488     0.488     0.488        43\n",
      "NintendoSwitch      0.976     0.833     0.899        48\n",
      "       antiMLM      0.778     0.757     0.767        37\n",
      "\n",
      "      accuracy                          0.760       400\n",
      "     macro avg      0.764     0.758     0.760       400\n",
      "  weighted avg      0.767     0.760     0.762       400\n",
      "\n",
      "Evaluation for: LR - TF IDF with paramter tuning on Test set\n",
      "                precision    recall  f1-score   support\n",
      "\n",
      "        Coffee      0.945     0.929     0.937        56\n",
      "NintendoSwitch      0.857     0.947     0.900        38\n",
      "          xbox      0.745     0.788     0.766        52\n",
      "           tea      0.582     0.667     0.621        48\n",
      "       antiMLM      0.923     0.828     0.873        29\n",
      "      pcgaming      0.837     0.818     0.828        44\n",
      "           PS4      0.650     0.553     0.598        47\n",
      "   HydroHomies      0.886     0.929     0.907        42\n",
      "          Soda      0.800     0.727     0.762        44\n",
      "\n",
      "      accuracy                          0.795       400\n",
      "     macro avg      0.803     0.798     0.799       400\n",
      "  weighted avg      0.797     0.795     0.794       400\n",
      "\n"
     ]
    },
    {
     "data": {
      "text/plain": [
       "<sklearn.metrics._plot.confusion_matrix.ConfusionMatrixDisplay at 0x7f972b154050>"
      ]
     },
     "execution_count": 37,
     "metadata": {},
     "output_type": "execute_result"
    },
    {
     "data": {
      "image/png": "[encoded data removed]",
      "text/plain": [
       "<Figure size 432x288 with 2 Axes>"
      ]
     },
     "metadata": {
      "needs_background": "light"
     },
     "output_type": "display_data"
    }
   ],
   "source": [
    "#LR with TF-IDF vectorization. Passing tuned paramters.  Pass text_pipeline_spacy tokenizer to the vectorizer.\n",
    "prediction_pipeline_tuned = Pipeline([\n",
    "              ('selector', ItemSelector(key='body')),\n",
    "              ('tf-idf', TfidfVectorizer(sublinear_tf=True,max_features=None, tokenizer=text_pipeline_spacy))\n",
    "              ])\n",
    "\n",
    "tf_idf_train_tuned = prediction_pipeline_tuned.fit_transform(train_data_df)\n",
    "tf_idf_validation_tuned = prediction_pipeline_tuned.transform(val_data_df)\n",
    "tf_idf_test_tuned = prediction_pipeline_tuned.transform(test_data_df)\n",
    "\n",
    "lr = LogisticRegression(random_state=1, C=100)\n",
    "tr_tuned_model = lr.fit(tf_idf_train_tuned,train_labels)\n",
    "\n",
    "#train set\n",
    "lr_tfidf_tuned_val = lr.predict(tf_idf_validation_tuned)\n",
    "evaluation_summary(\"LR - TF IDF with paramter tuning on Validation set\", val_labels, lr_tfidf_tuned_val , uniquelabels_val)\n",
    "\n",
    "lr_tfidf_tuned_test = lr.predict(tf_idf_test_tuned)\n",
    "evaluation_summary(\"LR - TF IDF with paramter tuning on Test set\", test_labels, lr_tfidf_tuned_test , uniquelabels_test)\n",
    "ConfusionMatrixDisplay.from_predictions(test_labels,lr_tfidf_tuned_test,xticks_rotation='vertical')"
   ]
  },
  {
   "cell_type": "code",
   "execution_count": 38,
   "metadata": {
    "colab": {
     "base_uri": "https://localhost:8080/",
     "height": 206
    },
    "id": "R4ehNOYbqePN",
    "outputId": "f16bc059-8ff5-43c0-ca2d-09d68378720a"
   },
   "outputs": [
    {
     "data": {
      "text/html": [
       "\n",
       "  <div id=\"df-a617844f-7a0c-41b6-bb23-4b1ba02e458e\">\n",
       "    <div class=\"colab-df-container\">\n",
       "      <div>\n",
       "<style scoped>\n",
       "    .dataframe tbody tr th:only-of-type {\n",
       "        vertical-align: middle;\n",
       "    }\n",
       "\n",
       "    .dataframe tbody tr th {\n",
       "        vertical-align: top;\n",
       "    }\n",
       "\n",
       "    .dataframe thead th {\n",
       "        text-align: right;\n",
       "    }\n",
       "</style>\n",
       "<table border=\"1\" class=\"dataframe\">\n",
       "  <thead>\n",
       "    <tr style=\"text-align: right;\">\n",
       "      <th></th>\n",
       "      <th>LR-TF-IDF vectorization (Q1.b)</th>\n",
       "      <th>LR-TF-IDF Vectorization with Parameter Tuning (Q2.a)</th>\n",
       "      <th>Best</th>\n",
       "    </tr>\n",
       "    <tr>\n",
       "      <th>Performance Metrics</th>\n",
       "      <th></th>\n",
       "      <th></th>\n",
       "      <th></th>\n",
       "    </tr>\n",
       "  </thead>\n",
       "  <tbody>\n",
       "    <tr>\n",
       "      <th>Precision</th>\n",
       "      <td>0.783</td>\n",
       "      <td>0.797</td>\n",
       "      <td>LR-TF-IDF Vectorization with Parameter Tuning</td>\n",
       "    </tr>\n",
       "    <tr>\n",
       "      <th>Recall</th>\n",
       "      <td>0.775</td>\n",
       "      <td>0.795</td>\n",
       "      <td>LR-TF-IDF Vectorization with Parameter Tuning</td>\n",
       "    </tr>\n",
       "    <tr>\n",
       "      <th>F1Score</th>\n",
       "      <td>0.776</td>\n",
       "      <td>0.794</td>\n",
       "      <td>LR-TF-IDF Vectorization with Parameter Tuning</td>\n",
       "    </tr>\n",
       "    <tr>\n",
       "      <th>Accuracy</th>\n",
       "      <td>0.775</td>\n",
       "      <td>0.795</td>\n",
       "      <td>LR-TF-IDF Vectorization with Parameter Tuning</td>\n",
       "    </tr>\n",
       "  </tbody>\n",
       "</table>\n",
       "</div>\n",
       "      <button class=\"colab-df-convert\" onclick=\"convertToInteractive('df-a617844f-7a0c-41b6-bb23-4b1ba02e458e')\"\n",
       "              title=\"Convert this dataframe to an interactive table.\"\n",
       "              style=\"display:none;\">\n",
       "        \n",
       "  <svg xmlns=\"http://www.w3.org/2000/svg\" height=\"24px\"viewBox=\"0 0 24 24\"\n",
       "       width=\"24px\">\n",
       "    <path d=\"M0 0h24v24H0V0z\" fill=\"none\"/>\n",
       "    <path d=\"M18.56 5.44l.94 2.06.94-2.06 2.06-.94-2.06-.94-.94-2.06-.94 2.06-2.06.94zm-11 1L8.5 8.5l.94-2.06 2.06-.94-2.06-.94L8.5 2.5l-.94 2.06-2.06.94zm10 10l.94 2.06.94-2.06 2.06-.94-2.06-.94-.94-2.06-.94 2.06-2.06.94z\"/><path d=\"M17.41 7.96l-1.37-1.37c-.4-.4-.92-.59-1.43-.59-.52 0-1.04.2-1.43.59L10.3 9.45l-7.72 7.72c-.78.78-.78 2.05 0 2.83L4 21.41c.39.39.9.59 1.41.59.51 0 1.02-.2 1.41-.59l7.78-7.78 2.81-2.81c.8-.78.8-2.07 0-2.86zM5.41 20L4 18.59l7.72-7.72 1.47 1.35L5.41 20z\"/>\n",
       "  </svg>\n",
       "      </button>\n",
       "      \n",
       "  <style>\n",
       "    .colab-df-container {\n",
       "      display:flex;\n",
       "      flex-wrap:wrap;\n",
       "      gap: 12px;\n",
       "    }\n",
       "\n",
       "    .colab-df-convert {\n",
       "      background-color: #E8F0FE;\n",
       "      border: none;\n",
       "      border-radius: 50%;\n",
       "      cursor: pointer;\n",
       "      display: none;\n",
       "      fill: #1967D2;\n",
       "      height: 32px;\n",
       "      padding: 0 0 0 0;\n",
       "      width: 32px;\n",
       "    }\n",
       "\n",
       "    .colab-df-convert:hover {\n",
       "      background-color: #E2EBFA;\n",
       "      box-shadow: 0px 1px 2px rgba(60, 64, 67, 0.3), 0px 1px 3px 1px rgba(60, 64, 67, 0.15);\n",
       "      fill: #174EA6;\n",
       "    }\n",
       "\n",
       "    [theme=dark] .colab-df-convert {\n",
       "      background-color: #3B4455;\n",
       "      fill: #D2E3FC;\n",
       "    }\n",
       "\n",
       "    [theme=dark] .colab-df-convert:hover {\n",
       "      background-color: #434B5C;\n",
       "      box-shadow: 0px 1px 3px 1px rgba(0, 0, 0, 0.15);\n",
       "      filter: drop-shadow(0px 1px 2px rgba(0, 0, 0, 0.3));\n",
       "      fill: #FFFFFF;\n",
       "    }\n",
       "  </style>\n",
       "\n",
       "      <script>\n",
       "        const buttonEl =\n",
       "          document.querySelector('#df-a617844f-7a0c-41b6-bb23-4b1ba02e458e button.colab-df-convert');\n",
       "        buttonEl.style.display =\n",
       "          google.colab.kernel.accessAllowed ? 'block' : 'none';\n",
       "\n",
       "        async function convertToInteractive(key) {\n",
       "          const element = document.querySelector('#df-a617844f-7a0c-41b6-bb23-4b1ba02e458e');\n",
       "          const dataTable =\n",
       "            await google.colab.kernel.invokeFunction('convertToInteractive',\n",
       "                                                     [key], {});\n",
       "          if (!dataTable) return;\n",
       "\n",
       "          const docLinkHtml = 'Like what you see? Visit the ' +\n",
       "            '<a target=\"_blank\" href=https://colab.research.google.com/notebooks/data_table.ipynb>data table notebook</a>'\n",
       "            + ' to learn more about interactive tables.';\n",
       "          element.innerHTML = '';\n",
       "          dataTable['output_type'] = 'display_data';\n",
       "          await google.colab.output.renderOutput(dataTable, element);\n",
       "          const docLink = document.createElement('div');\n",
       "          docLink.innerHTML = docLinkHtml;\n",
       "          element.appendChild(docLink);\n",
       "        }\n",
       "      </script>\n",
       "    </div>\n",
       "  </div>\n",
       "  "
      ],
      "text/plain": [
       "                     LR-TF-IDF vectorization (Q1.b)  \\\n",
       "Performance Metrics                                   \n",
       "Precision                                     0.783   \n",
       "Recall                                        0.775   \n",
       "F1Score                                       0.776   \n",
       "Accuracy                                      0.775   \n",
       "\n",
       "                     LR-TF-IDF Vectorization with Parameter Tuning (Q2.a)  \\\n",
       "Performance Metrics                                                         \n",
       "Precision                                                        0.797      \n",
       "Recall                                                           0.795      \n",
       "F1Score                                                          0.794      \n",
       "Accuracy                                                         0.795      \n",
       "\n",
       "                                                              Best  \n",
       "Performance Metrics                                                 \n",
       "Precision            LR-TF-IDF Vectorization with Parameter Tuning  \n",
       "Recall               LR-TF-IDF Vectorization with Parameter Tuning  \n",
       "F1Score              LR-TF-IDF Vectorization with Parameter Tuning  \n",
       "Accuracy             LR-TF-IDF Vectorization with Parameter Tuning  "
      ]
     },
     "execution_count": 38,
     "metadata": {},
     "output_type": "execute_result"
    }
   ],
   "source": [
    "predicted_label_testset = [lr_tfidf_predicted_test,lr_tfidf_tuned_test]\n",
    "classifier_set =['LR-TF-IDF vectorization','LR-TF-IDF Vectorization with Parameter Tuning']\n",
    "index_set =['Precision','Recall','F1Score','Accuracy']\n",
    "\n",
    "column_list=[]\n",
    "for i in range(2):\n",
    "  dict_test = classification_report(test_labels, predicted_label_testset[i],  digits=3, zero_division=0, target_names=uniquelabels_test, output_dict=True)\n",
    "  sublist=[]\n",
    "  sublist.append(round(dict_test['weighted avg']['precision'],3))\n",
    "  sublist.append(round(dict_test['weighted avg']['recall'],3))\n",
    "  sublist.append(round(dict_test['weighted avg']['f1-score'],3))\n",
    "  sublist.append(round(dict_test['accuracy'],3))\n",
    "  column_list.append(sublist)\n",
    "\n",
    "col_arry = np.array(column_list)\n",
    "col_arry_T=col_arry.T\n",
    "best_indices=col_arry_T.argmax(axis=1)\n",
    "best_list=[]\n",
    "for i in best_indices:\n",
    "  best_list.append(classifier_set[i])\n",
    "\n",
    "df = pd.DataFrame(col_arry_T,columns=['LR-TF-IDF vectorization (Q1.b)','LR-TF-IDF Vectorization with Parameter Tuning (Q2.a)'])\n",
    "df['Performance Metrics']= index_set\n",
    "df.set_index('Performance Metrics', inplace=True)\n",
    "df['Best'] = best_list\n",
    "df"
   ]
  },
  {
   "cell_type": "code",
   "execution_count": 39,
   "metadata": {
    "colab": {
     "base_uri": "https://localhost:8080/",
     "height": 351
    },
    "id": "l_T5NNYhwAjF",
    "outputId": "1e0599ea-18d3-47c0-c64a-39dc3cde88cf"
   },
   "outputs": [
    {
     "data": {
      "text/plain": [
       "[Text(0, 0.5, 'Value')]"
      ]
     },
     "execution_count": 39,
     "metadata": {},
     "output_type": "execute_result"
    },
    {
     "data": {
      "image/png": "[encoded data removed]",
      "text/plain": [
       "<Figure size 720x360 with 1 Axes>"
      ]
     },
     "metadata": {
      "needs_background": "light"
     },
     "output_type": "display_data"
    }
   ],
   "source": [
    "fig, ax1= plt.subplots(1, 1,figsize=(10,5))\n",
    "df.plot.line(ax=ax1)\n",
    "ax1.set(ylabel='Value')"
   ]
  },
  {
   "cell_type": "markdown",
   "metadata": {
    "id": "pIsRTiW-ABs8"
   },
   "source": [
    "* ### Q2b: Error analysis - Manually examine the predictions of your optimised classifier on the test set. Analyse the results for patterns and trends. Hypothesise why common classification errors are made. Report on your error analysis process and summarise your findings."
   ]
  },
  {
   "cell_type": "markdown",
   "metadata": {
    "id": "BWs7YqOOAbLp"
   },
   "source": [
    "## Q3: Feature Engineering"
   ]
  },
  {
   "cell_type": "markdown",
   "metadata": {
    "id": "lOpWB9pMAcri"
   },
   "source": [
    "### Q3a:\n",
    "Below features are selected to add to the tuned model from Q2.\n",
    "\n",
    "\n",
    "1.   Added other properties of reddit posts.\n",
    "‘Title’ has been added as an additional feature. In a normal context, title of a reddit post shows a very brief description of the subreddit. It will be shown in the tab's text, as well as in Reddit and Google search results. As a result, if we add title as a new feature, there may be a significant increase in classifier performance.\n",
    "2.   Word embedding using Gensim word2vec \n",
    "word2vec is used for word embedding. Reddit post ‘title’ has been passed to gensim function created. Since it is capable of capturing word similarity using vector arithmetic, it may improve model performance. Also size of generated vector is small and flexible.\n"
   ]
  },
  {
   "cell_type": "markdown",
   "metadata": {
    "id": "Q6CEo84D1sqR"
   },
   "source": [
    "### Q3b:"
   ]
  },
  {
   "cell_type": "code",
   "execution_count": 52,
   "metadata": {
    "id": "I4w9HFdKkc1-"
   },
   "outputs": [],
   "source": [
    "class GensimSelector(BaseEstimator, TransformerMixin):\n",
    "    \"\"\"For data grouped by feature, select subset of data at a provided key.    \"\"\"\n",
    "\n",
    "    def __init__(self, key):\n",
    "        self.key = key\n",
    "\n",
    "    def fit(self, x, y=None):\n",
    "        return self\n",
    "\n",
    "    def transform(self, data_dict):\n",
    "        return data_dict[self.key]"
   ]
  },
  {
   "cell_type": "code",
   "execution_count": 109,
   "metadata": {
    "id": "BgT9LRhOn7a5"
   },
   "outputs": [],
   "source": [
    "class GensimFun(BaseEstimator, TransformerMixin):\n",
    "    \"\"\"Extract features from each document for DictVectorizer\"\"\"\n",
    "\n",
    "    def fit(self, x, y=None):\n",
    "        return self\n",
    "\n",
    "    def transform(self, posts):\n",
    "        model = gensim.models.Word2Vec(window=10, min_count=1, workers=4, size=25)\n",
    "        token_list=[]\n",
    "        for i in range(len(posts)):\n",
    "          tokens = gensim.utils.simple_preprocess(posts[i])\n",
    "          token_list.append(tokens)\n",
    "        \n",
    "        model.build_vocab(token_list, progress_per=1000)\n",
    "\n",
    "        model.train(posts, total_examples=model.corpus_count, epochs=model.iter)\n",
    "        model.save('./my_test_vocab.model')\n",
    "        final_vec_arr=[]\n",
    "        for i in range(len(posts)):\n",
    "            tokens = gensim.utils.simple_preprocess(posts[i])\n",
    "            model.train(tokens, total_examples=model.corpus_count, epochs=model.iter)\n",
    "            if len(tokens)>0:\n",
    "              tmp = np.sum(model.wv[tokens],axis=0)\n",
    "            else:\n",
    "              tmp = np.empty(25, dtype=float)\n",
    "            final_vec_arr.append(tmp)\n",
    "        final_vec_arr = np.array(list(final_vec_arr))\n",
    "        return final_vec_arr"
   ]
  },
  {
   "cell_type": "code",
   "execution_count": 110,
   "metadata": {
    "colab": {
     "base_uri": "https://localhost:8080/",
     "height": 1000
    },
    "id": "R0to1MdNKKW4",
    "outputId": "4c20fef3-d8c7-4851-feca-fe51a0545737"
   },
   "outputs": [
    {
     "name": "stdout",
     "output_type": "stream",
     "text": [
      "Evaluation for: LR TFIDF(fine tuned) with feature addition- trainset\n",
      "                precision    recall  f1-score   support\n",
      "\n",
      "           PS4      1.000     1.000     1.000       136\n",
      "      pcgaming      1.000     1.000     1.000       134\n",
      "NintendoSwitch      1.000     1.000     1.000       145\n",
      "       antiMLM      1.000     1.000     1.000       142\n",
      "   HydroHomies      1.000     1.000     1.000       102\n",
      "        Coffee      1.000     1.000     1.000       128\n",
      "          xbox      1.000     1.000     1.000       135\n",
      "          Soda      1.000     1.000     1.000       146\n",
      "           tea      1.000     1.000     1.000       132\n",
      "\n",
      "      accuracy                          1.000      1200\n",
      "     macro avg      1.000     1.000     1.000      1200\n",
      "  weighted avg      1.000     1.000     1.000      1200\n",
      "\n",
      "Evaluation for: LR TFIDF(fine tuned) with feature addition- validation set\n",
      "                precision    recall  f1-score   support\n",
      "\n",
      "        Coffee      0.905     0.905     0.905        42\n",
      "   HydroHomies      0.833     0.921     0.875        38\n",
      "          Soda      0.712     0.808     0.757        52\n",
      "           tea      0.489     0.535     0.511        43\n",
      "           PS4      0.902     0.860     0.881        43\n",
      "      pcgaming      0.855     0.870     0.862        54\n",
      "          xbox      0.553     0.488     0.519        43\n",
      "NintendoSwitch      0.955     0.875     0.913        48\n",
      "       antiMLM      0.875     0.757     0.812        37\n",
      "\n",
      "      accuracy                          0.782       400\n",
      "     macro avg      0.786     0.780     0.782       400\n",
      "  weighted avg      0.787     0.782     0.783       400\n",
      "\n",
      "Evaluation for: LR TFIDF(fine tuned) with feature addition- testset\n",
      "                precision    recall  f1-score   support\n",
      "\n",
      "        Coffee      0.963     0.929     0.945        56\n",
      "NintendoSwitch      0.878     0.947     0.911        38\n",
      "          xbox      0.780     0.750     0.765        52\n",
      "           tea      0.593     0.729     0.654        48\n",
      "       antiMLM      0.889     0.828     0.857        29\n",
      "      pcgaming      0.818     0.818     0.818        44\n",
      "           PS4      0.628     0.574     0.600        47\n",
      "   HydroHomies      0.907     0.929     0.918        42\n",
      "          Soda      0.846     0.750     0.795        44\n",
      "\n",
      "      accuracy                          0.802       400\n",
      "     macro avg      0.811     0.806     0.807       400\n",
      "  weighted avg      0.807     0.802     0.803       400\n",
      "\n"
     ]
    },
    {
     "data": {
      "text/plain": [
       "<sklearn.metrics._plot.confusion_matrix.ConfusionMatrixDisplay at 0x7f9725a648d0>"
      ]
     },
     "execution_count": 110,
     "metadata": {},
     "output_type": "execute_result"
    },
    {
     "data": {
      "image/png": "[encoded data removed]",
      "text/plain": [
       "<Figure size 432x288 with 2 Axes>"
      ]
     },
     "metadata": {
      "needs_background": "light"
     },
     "output_type": "display_data"
    },
    {
     "data": {
      "image/png": "[encoded data removed]",
      "text/plain": [
       "<Figure size 432x288 with 2 Axes>"
      ]
     },
     "metadata": {
      "needs_background": "light"
     },
     "output_type": "display_data"
    },
    {
     "data": {
      "image/png": "[encoded data removed]",
      "text/plain": [
       "<Figure size 432x288 with 2 Axes>"
      ]
     },
     "metadata": {
      "needs_background": "light"
     },
     "output_type": "display_data"
    }
   ],
   "source": [
    "from sklearn.pipeline import FeatureUnion\n",
    "from sklearn.pipeline import Pipeline\n",
    "from sklearn.feature_extraction.text import CountVectorizer\n",
    "\n",
    "# Use FeatureUnion to combine the features from text and summary\n",
    "prediction_pipeline_feature = Pipeline([\n",
    "        ('union', FeatureUnion(\n",
    "          transformer_list=[\n",
    "            ('body', Pipeline([\n",
    "              ('selector', ItemSelector(key='body')),\n",
    "              ('tf-idf', TfidfVectorizer(sublinear_tf=True, max_features=None,tokenizer=text_pipeline_spacy)),\n",
    "              ])),\n",
    "            ('title', Pipeline([\n",
    "              ('selector', GensimSelector(key='title')),\n",
    "              ('w2v', GensimFun())\n",
    "              ])),\n",
    "        ])\n",
    "        )\n",
    "    ])\n",
    "\n",
    "tf_idf_train_features2 = prediction_pipeline_feature.fit_transform(train_data_df)\n",
    "tf_idf_validation_features2 = prediction_pipeline_feature.transform(val_data_df)\n",
    "tf_idf_test_features2 = prediction_pipeline_feature.transform(test_data_df)\n",
    "\n",
    "lr = LogisticRegression(random_state=1, C=100)\n",
    "combined_model = lr.fit(tf_idf_train_features2,train_labels)\n",
    "\n",
    "#train set\n",
    "tf_idf_feature_model = lr.predict(tf_idf_train_features2)\n",
    "evaluation_summary(\"LR TFIDF(fine tuned) with feature addition- trainset\", train_labels,tf_idf_feature_model , uniquelabels_tr)    \n",
    "ConfusionMatrixDisplay.from_predictions(train_labels,tf_idf_feature_model,xticks_rotation='vertical')\n",
    "\n",
    "#validation set\n",
    "tf_idf_val_feature_model = lr.predict(tf_idf_validation_features2)\n",
    "evaluation_summary(\"LR TFIDF(fine tuned) with feature addition- validation set\", val_labels,tf_idf_val_feature_model , uniquelabels_val)    \n",
    "ConfusionMatrixDisplay.from_predictions(val_labels,tf_idf_val_feature_model,xticks_rotation='vertical')\n",
    "\n",
    "#test set\n",
    "tf_idf_test_features_model = lr.predict(tf_idf_test_features2)\n",
    "evaluation_summary(\"LR TFIDF(fine tuned) with feature addition- testset\", test_labels,tf_idf_test_features_model , uniquelabels_test)    \n",
    "ConfusionMatrixDisplay.from_predictions(test_labels,tf_idf_test_features_model,xticks_rotation='vertical')"
   ]
  },
  {
   "cell_type": "markdown",
   "metadata": {
    "id": "NSw1OczAAgb3"
   },
   "source": [
    "### Q3c:"
   ]
  },
  {
   "cell_type": "code",
   "execution_count": 111,
   "metadata": {
    "colab": {
     "base_uri": "https://localhost:8080/",
     "height": 193
    },
    "id": "hdslU7ZaWYbH",
    "outputId": "cc6dd069-07b4-4a2c-b62a-a85cfb93d6d3"
   },
   "outputs": [
    {
     "data": {
      "text/html": [
       "\n",
       "  <div id=\"df-f5294f92-404f-4779-ad1a-d83a3126d463\">\n",
       "    <div class=\"colab-df-container\">\n",
       "      <div>\n",
       "<style scoped>\n",
       "    .dataframe tbody tr th:only-of-type {\n",
       "        vertical-align: middle;\n",
       "    }\n",
       "\n",
       "    .dataframe tbody tr th {\n",
       "        vertical-align: top;\n",
       "    }\n",
       "\n",
       "    .dataframe thead th {\n",
       "        text-align: right;\n",
       "    }\n",
       "</style>\n",
       "<table border=\"1\" class=\"dataframe\">\n",
       "  <thead>\n",
       "    <tr style=\"text-align: right;\">\n",
       "      <th></th>\n",
       "      <th>LR-TF-IDF (Q1.b)</th>\n",
       "      <th>LR-TF-IDF with Param Tuning (Q2.a)</th>\n",
       "      <th>LR-TF-IDF-Param Tuning-Feature Engineering</th>\n",
       "      <th>Best</th>\n",
       "    </tr>\n",
       "    <tr>\n",
       "      <th>Performance Metrics</th>\n",
       "      <th></th>\n",
       "      <th></th>\n",
       "      <th></th>\n",
       "      <th></th>\n",
       "    </tr>\n",
       "  </thead>\n",
       "  <tbody>\n",
       "    <tr>\n",
       "      <th>Precision</th>\n",
       "      <td>0.783</td>\n",
       "      <td>0.797</td>\n",
       "      <td>0.807</td>\n",
       "      <td>LR-TF-IDF-Param Tuning-Feature Engineering</td>\n",
       "    </tr>\n",
       "    <tr>\n",
       "      <th>Recall</th>\n",
       "      <td>0.775</td>\n",
       "      <td>0.795</td>\n",
       "      <td>0.802</td>\n",
       "      <td>LR-TF-IDF-Param Tuning-Feature Engineering</td>\n",
       "    </tr>\n",
       "    <tr>\n",
       "      <th>F1Score</th>\n",
       "      <td>0.776</td>\n",
       "      <td>0.794</td>\n",
       "      <td>0.803</td>\n",
       "      <td>LR-TF-IDF-Param Tuning-Feature Engineering</td>\n",
       "    </tr>\n",
       "    <tr>\n",
       "      <th>Accuracy</th>\n",
       "      <td>0.775</td>\n",
       "      <td>0.795</td>\n",
       "      <td>0.802</td>\n",
       "      <td>LR-TF-IDF-Param Tuning-Feature Engineering</td>\n",
       "    </tr>\n",
       "  </tbody>\n",
       "</table>\n",
       "</div>\n",
       "      <button class=\"colab-df-convert\" onclick=\"convertToInteractive('df-f5294f92-404f-4779-ad1a-d83a3126d463')\"\n",
       "              title=\"Convert this dataframe to an interactive table.\"\n",
       "              style=\"display:none;\">\n",
       "        \n",
       "  <svg xmlns=\"http://www.w3.org/2000/svg\" height=\"24px\"viewBox=\"0 0 24 24\"\n",
       "       width=\"24px\">\n",
       "    <path d=\"M0 0h24v24H0V0z\" fill=\"none\"/>\n",
       "    <path d=\"M18.56 5.44l.94 2.06.94-2.06 2.06-.94-2.06-.94-.94-2.06-.94 2.06-2.06.94zm-11 1L8.5 8.5l.94-2.06 2.06-.94-2.06-.94L8.5 2.5l-.94 2.06-2.06.94zm10 10l.94 2.06.94-2.06 2.06-.94-2.06-.94-.94-2.06-.94 2.06-2.06.94z\"/><path d=\"M17.41 7.96l-1.37-1.37c-.4-.4-.92-.59-1.43-.59-.52 0-1.04.2-1.43.59L10.3 9.45l-7.72 7.72c-.78.78-.78 2.05 0 2.83L4 21.41c.39.39.9.59 1.41.59.51 0 1.02-.2 1.41-.59l7.78-7.78 2.81-2.81c.8-.78.8-2.07 0-2.86zM5.41 20L4 18.59l7.72-7.72 1.47 1.35L5.41 20z\"/>\n",
       "  </svg>\n",
       "      </button>\n",
       "      \n",
       "  <style>\n",
       "    .colab-df-container {\n",
       "      display:flex;\n",
       "      flex-wrap:wrap;\n",
       "      gap: 12px;\n",
       "    }\n",
       "\n",
       "    .colab-df-convert {\n",
       "      background-color: #E8F0FE;\n",
       "      border: none;\n",
       "      border-radius: 50%;\n",
       "      cursor: pointer;\n",
       "      display: none;\n",
       "      fill: #1967D2;\n",
       "      height: 32px;\n",
       "      padding: 0 0 0 0;\n",
       "      width: 32px;\n",
       "    }\n",
       "\n",
       "    .colab-df-convert:hover {\n",
       "      background-color: #E2EBFA;\n",
       "      box-shadow: 0px 1px 2px rgba(60, 64, 67, 0.3), 0px 1px 3px 1px rgba(60, 64, 67, 0.15);\n",
       "      fill: #174EA6;\n",
       "    }\n",
       "\n",
       "    [theme=dark] .colab-df-convert {\n",
       "      background-color: #3B4455;\n",
       "      fill: #D2E3FC;\n",
       "    }\n",
       "\n",
       "    [theme=dark] .colab-df-convert:hover {\n",
       "      background-color: #434B5C;\n",
       "      box-shadow: 0px 1px 3px 1px rgba(0, 0, 0, 0.15);\n",
       "      filter: drop-shadow(0px 1px 2px rgba(0, 0, 0, 0.3));\n",
       "      fill: #FFFFFF;\n",
       "    }\n",
       "  </style>\n",
       "\n",
       "      <script>\n",
       "        const buttonEl =\n",
       "          document.querySelector('#df-f5294f92-404f-4779-ad1a-d83a3126d463 button.colab-df-convert');\n",
       "        buttonEl.style.display =\n",
       "          google.colab.kernel.accessAllowed ? 'block' : 'none';\n",
       "\n",
       "        async function convertToInteractive(key) {\n",
       "          const element = document.querySelector('#df-f5294f92-404f-4779-ad1a-d83a3126d463');\n",
       "          const dataTable =\n",
       "            await google.colab.kernel.invokeFunction('convertToInteractive',\n",
       "                                                     [key], {});\n",
       "          if (!dataTable) return;\n",
       "\n",
       "          const docLinkHtml = 'Like what you see? Visit the ' +\n",
       "            '<a target=\"_blank\" href=https://colab.research.google.com/notebooks/data_table.ipynb>data table notebook</a>'\n",
       "            + ' to learn more about interactive tables.';\n",
       "          element.innerHTML = '';\n",
       "          dataTable['output_type'] = 'display_data';\n",
       "          await google.colab.output.renderOutput(dataTable, element);\n",
       "          const docLink = document.createElement('div');\n",
       "          docLink.innerHTML = docLinkHtml;\n",
       "          element.appendChild(docLink);\n",
       "        }\n",
       "      </script>\n",
       "    </div>\n",
       "  </div>\n",
       "  "
      ],
      "text/plain": [
       "                     LR-TF-IDF (Q1.b)  LR-TF-IDF with Param Tuning (Q2.a)  \\\n",
       "Performance Metrics                                                         \n",
       "Precision                       0.783                               0.797   \n",
       "Recall                          0.775                               0.795   \n",
       "F1Score                         0.776                               0.794   \n",
       "Accuracy                        0.775                               0.795   \n",
       "\n",
       "                     LR-TF-IDF-Param Tuning-Feature Engineering  \\\n",
       "Performance Metrics                                               \n",
       "Precision                                                 0.807   \n",
       "Recall                                                    0.802   \n",
       "F1Score                                                   0.803   \n",
       "Accuracy                                                  0.802   \n",
       "\n",
       "                                                           Best  \n",
       "Performance Metrics                                              \n",
       "Precision            LR-TF-IDF-Param Tuning-Feature Engineering  \n",
       "Recall               LR-TF-IDF-Param Tuning-Feature Engineering  \n",
       "F1Score              LR-TF-IDF-Param Tuning-Feature Engineering  \n",
       "Accuracy             LR-TF-IDF-Param Tuning-Feature Engineering  "
      ]
     },
     "execution_count": 111,
     "metadata": {},
     "output_type": "execute_result"
    }
   ],
   "source": [
    "predicted_label_testset = [lr_tfidf_predicted_test,lr_tfidf_tuned_test,tf_idf_test_features_model]\n",
    "classifier_set =['LR-TF-IDF vectorization','LR-TF-IDF Vectorization with Parameter Tuning','LR-TF-IDF-Param Tuning-Feature Engineering']\n",
    "index_set =['Precision','Recall','F1Score','Accuracy']\n",
    "\n",
    "column_list=[]\n",
    "for i in range(3):\n",
    "  dict_test = classification_report(test_labels, predicted_label_testset[i],  digits=3, zero_division=0, target_names=uniquelabels_test, output_dict=True)\n",
    "  sublist=[]\n",
    "  sublist.append(round(dict_test['weighted avg']['precision'],3))\n",
    "  sublist.append(round(dict_test['weighted avg']['recall'],3))\n",
    "  sublist.append(round(dict_test['weighted avg']['f1-score'],3))\n",
    "  sublist.append(round(dict_test['accuracy'],3))\n",
    "  column_list.append(sublist)\n",
    "\n",
    "col_arry = np.array(column_list)\n",
    "col_arry_T=col_arry.T\n",
    "best_indices=col_arry_T.argmax(axis=1)\n",
    "best_list=[]\n",
    "for i in best_indices:\n",
    "  best_list.append(classifier_set[i])\n",
    "\n",
    "df = pd.DataFrame(col_arry_T,columns=['LR-TF-IDF (Q1.b)','LR-TF-IDF with Param Tuning (Q2.a)','LR-TF-IDF-Param Tuning-Feature Engineering'])\n",
    "df['Performance Metrics']= index_set\n",
    "df.set_index('Performance Metrics', inplace=True)\n",
    "df['Best'] = best_list\n",
    "df"
   ]
  },
  {
   "cell_type": "code",
   "execution_count": 112,
   "metadata": {
    "colab": {
     "base_uri": "https://localhost:8080/",
     "height": 351
    },
    "id": "rd_bHU1gWa3a",
    "outputId": "019b9cd6-7b19-48c4-aafd-6eb548e8dd32"
   },
   "outputs": [
    {
     "data": {
      "text/plain": [
       "[Text(0, 0.5, 'Value')]"
      ]
     },
     "execution_count": 112,
     "metadata": {},
     "output_type": "execute_result"
    },
    {
     "data": {
      "image/png": "[encoded data removed]",
      "text/plain": [
       "<Figure size 720x360 with 1 Axes>"
      ]
     },
     "metadata": {
      "needs_background": "light"
     },
     "output_type": "display_data"
    }
   ],
   "source": [
    "fig, ax1= plt.subplots(1, 1,figsize=(10,5))\n",
    "df.plot.line(ax=ax1)\n",
    "ax1.set(ylabel='Value')"
   ]
  },
  {
   "cell_type": "code",
   "execution_count": null,
   "metadata": {
    "id": "j9Q1WlLmaGeZ"
   },
   "outputs": [],
   "source": []
  }
 ],
 "metadata": {
  "colab": {
   "collapsed_sections": [],
   "name": "2699662J_colab.ipynb",
   "provenance": []
  },
  "kernelspec": {
   "display_name": "Python 3",
   "language": "python",
   "name": "python3"
  },
  "language_info": {
   "codemirror_mode": {
    "name": "ipython",
    "version": 3
   },
   "file_extension": ".py",
   "mimetype": "text/x-python",
   "name": "python",
   "nbconvert_exporter": "python",
   "pygments_lexer": "ipython3",
   "version": "3.8.8"
  }
 },
 "nbformat": 4,
 "nbformat_minor": 1
}
